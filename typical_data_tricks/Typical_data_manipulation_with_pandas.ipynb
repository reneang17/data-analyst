{
 "cells": [
  {
   "cell_type": "markdown",
   "metadata": {},
   "source": [
    "# Typical manipulations on pandas"
   ]
  },
  {
   "cell_type": "code",
   "execution_count": null,
   "metadata": {},
   "outputs": [],
   "source": [
    "# avoid anoying warnings\n",
    "import warnings\n",
    "def ignore_warn(*args, **kwargs):\n",
    "    pass\n",
    "warnings.warn = ignore_warn #ignore annoying warning (e.g. sklearn and seaborn)"
   ]
  },
  {
   "cell_type": "code",
   "execution_count": null,
   "metadata": {},
   "outputs": [],
   "source": []
  },
  {
   "cell_type": "code",
   "execution_count": null,
   "metadata": {},
   "outputs": [],
   "source": [
    "# Rename a single column \n",
    "df.rename(columns={'old_name_1':'new_name_1'}, inplace=True)"
   ]
  },
  {
   "cell_type": "code",
   "execution_count": null,
   "metadata": {},
   "outputs": [],
   "source": [
    "# Reminder of group by\n",
    "df.groupby('color').mean().quality"
   ]
  },
  {
   "cell_type": "code",
   "execution_count": null,
   "metadata": {},
   "outputs": [],
   "source": [
    "# drop columns \n",
    "df.drop(['Stnd', 'Underhood ID'], axis=1, inplace=True)"
   ]
  },
  {
   "cell_type": "code",
   "execution_count": null,
   "metadata": {},
   "outputs": [],
   "source": [
    "# replace spaces with underscores and lowercase labels \n",
    "df.rename(columns=lambda x: x.strip().lower().replace(\" \", \"_\"), inplace=True)"
   ]
  },
  {
   "cell_type": "code",
   "execution_count": null,
   "metadata": {},
   "outputs": [],
   "source": [
    "# Inspect missing data \n",
    "df.isnull().sum()"
   ]
  },
  {
   "cell_type": "code",
   "execution_count": null,
   "metadata": {},
   "outputs": [],
   "source": [
    "# drop rows with any null values in both datasets\n",
    "df.dropna(inplace=True)"
   ]
  },
  {
   "cell_type": "code",
   "execution_count": null,
   "metadata": {},
   "outputs": [],
   "source": [
    "# checks if any of columns have null values - should print False\n",
    "df_08.isnull().sum().any()"
   ]
  },
  {
   "cell_type": "code",
   "execution_count": null,
   "metadata": {},
   "outputs": [],
   "source": [
    "df['cyl'].value_counts()# show the values of a certain columns\n",
    "df['cyl'].uniques()#  uniques\n",
    "df['cyl'].nuniques()# number of uniques\n",
    "df_08['greenhouse_gas_score'].astype(int) # float to integer"
   ]
  },
  {
   "cell_type": "code",
   "execution_count": null,
   "metadata": {},
   "outputs": [],
   "source": [
    "# print number of duplicates in 2008 and 2018 datasets\n",
    "print(df.duplicated().sum())"
   ]
  },
  {
   "cell_type": "code",
   "execution_count": null,
   "metadata": {},
   "outputs": [],
   "source": [
    "# Fixing data types\n",
    "df.dtypes # shows data types\n",
    "\n",
    "#Extract using regular expression in this case 6 out of (6 cyl)\n",
    "df_08['cyl'].str.extract('(\\d+)').astype(int) "
   ]
  },
  {
   "cell_type": "code",
   "execution_count": null,
   "metadata": {},
   "outputs": [],
   "source": [
    "# Useful queries\n",
    "df.query('alcohol < 10.3 | alcohold == 0.1')\n",
    "df.query('gender == \"bato\"')\n",
    "df[df['A'].isin([3, 6])]\n",
    "df[~df['A'].isin([3, 6])] #not in"
   ]
  },
  {
   "cell_type": "code",
   "execution_count": null,
   "metadata": {},
   "outputs": [],
   "source": [
    "# save progress for the next section\n",
    "df.to_csv('name.csv', index=False)"
   ]
  },
  {
   "cell_type": "markdown",
   "metadata": {},
   "source": [
    "## Missing data"
   ]
  },
  {
   "cell_type": "code",
   "execution_count": null,
   "metadata": {},
   "outputs": [],
   "source": [
    "# Imputing\n",
    "df.groupby(['Title','SibSp','Parch','Pclass'])[\"Age\"].apply(lambda x: x.fillna(x.median()))"
   ]
  },
  {
   "cell_type": "code",
   "execution_count": null,
   "metadata": {},
   "outputs": [],
   "source": [
    "df.bare_nuclei.fillna(1) # fill with particular value"
   ]
  },
  {
   "cell_type": "code",
   "execution_count": null,
   "metadata": {},
   "outputs": [],
   "source": [
    "from imblearn.over_sampling import SMOTE\n",
    "def makeOverSamplesSMOTE(X,y):\n",
    "    #input DataFrame\n",
    "    #X Independent Variable in DataFrame\\\n",
    "    #y dependent Variable in Pandas DataFrame format\n",
    "    \n",
    "    sm = SMOTE()\n",
    "    X, y = sm.fit_sample(X, y)\n",
    "    return X,y\n",
    "X_aug, y_aug = makeOverSamplesSMOTE(X_train, y_train)"
   ]
  },
  {
   "cell_type": "markdown",
   "metadata": {},
   "source": [
    "## Some typical feature engineering"
   ]
  },
  {
   "cell_type": "code",
   "execution_count": null,
   "metadata": {},
   "outputs": [],
   "source": [
    "df['A'].apply(lambda x: x/10 if x>10 else x) ## apply"
   ]
  },
  {
   "cell_type": "code",
   "execution_count": null,
   "metadata": {},
   "outputs": [],
   "source": [
    "# Something more elaborate\n",
    "def loan_amount(columns):\n",
    "    total_credit_payments = columns[0]\n",
    "    worst_delinquency_estimated = columns[1]\n",
    "    worst_delinquency_past_due_estimated = columns[2]\n",
    "    amount_to_pay_next_payment = columns[3]\n",
    "    maximum_credit_amount = columns[4]\n",
    "     \n",
    "    if worst_delinquency_estimated != 0.:\n",
    "        return total_credit_payments * (\n",
    "            worst_delinquency_past_due_estimated \n",
    "            / worst_delinquency_estimated)\n",
    "    \n",
    "    elif (amount_to_pay_next_payment != 0.) & (total_credit_payments != 0):\n",
    "        return total_credit_payments * amount_to_pay_next_payment\n",
    "    \n",
    "    elif maximum_credit_amount != 0:\n",
    "        return maximum_credit_amount\n",
    "    \n",
    "    else:\n",
    "        raise ValueError\n",
    "        \n",
    "\n",
    "\n",
    "temp_list = ['total_credit_payments', \n",
    "             'worst_delinquency_estimated', \n",
    "             'worst_delinquency_past_due_estimated', \n",
    "             'amount_to_pay_next_payment', \n",
    "             'maximum_credit_amount']\n",
    "\n",
    "df['loan_amount'] = df[temp_list].apply(loan_amount,axis = 1)"
   ]
  }
 ],
 "metadata": {
  "kernelspec": {
   "display_name": "Python 3",
   "language": "python",
   "name": "python3"
  },
  "language_info": {
   "codemirror_mode": {
    "name": "ipython",
    "version": 3
   },
   "file_extension": ".py",
   "mimetype": "text/x-python",
   "name": "python",
   "nbconvert_exporter": "python",
   "pygments_lexer": "ipython3",
   "version": "3.7.1"
  }
 },
 "nbformat": 4,
 "nbformat_minor": 4
}
