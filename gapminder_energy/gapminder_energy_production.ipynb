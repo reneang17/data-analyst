{
 "cells": [
  {
   "cell_type": "markdown",
   "metadata": {},
   "source": [
    "# Energy production from 1970 to 2010\n",
    "\n",
    "We investigate the energy production data provided by \n",
    "\n",
    "https://www.gapminder.org/data/\n",
    "\n",
    "********************\n",
    "To answer the following questions:\n",
    "\n",
    "What were the tendencies in the energy production in from 1970 to 2010?\n",
    "\n",
    "How is the energy production distribution around the world in this period?\n",
    "\n",
    "Do energy production other than  oil, gas, nuclear played an important role?\n",
    "********************\n",
    "\n",
    "## Data\n",
    "\n",
    "\n",
    "**Energy production, total**\n",
    "\n",
    "Description: Energy production refers to forms of primary energy petroleum (crude oil, natural gas liquids, and \n",
    "Oil from nonconventional sources), natural gas, solid fuels (coal, lignite and other derived fuels), and combustible \n",
    "renewables and waste— and primary electricity, all converted into tonnes of oil equivalents, counted in tonnes \n",
    "of oil equivalent (tonnes oil equivalent).\n",
    "\n",
    "https://data.worldbank.org/indicator/EG.EGY.PROD.KT.OE\n",
    "\n",
    "**Oil production, total**\n",
    "\n",
    "Description: Total amount of crude oil production (tonnes oil equivalent)\n",
    "\n",
    "https://www.bp.com/en/global/corporate/energy-economics/statistical-review-of-world-energy.html\n",
    "\n",
    "\n",
    "**Natural gas production, total**\n",
    "\n",
    "Description: Natural gas production (tonnes oil equivalent)\n",
    "\n",
    "https://www.bp.com/en/global/corporate/energy-economics/statistical-review-of-world-energy.html\n",
    "\n",
    "**Hydro electricity production, total**\n",
    "\n",
    "Description: The amount of hydro power generated during the given year, counted in tonnes of oil equivalent (tonnes oil equivalent)\n",
    "\n",
    "https://data.worldbank.org/indicator/EG.ELC.HYRO.KH\n",
    "\n",
    "**Nuclear electricity production, total**\n",
    "\n",
    "Description: The amount of electricity produced by nuclear power plants in a given year, counted in tonnes of oil equivalent (toe)\n",
    "\n",
    "https://data.worldbank.org/indicator/EG.ELC.NUCL.KH\n",
    "\n"
   ]
  },
  {
   "cell_type": "markdown",
   "metadata": {},
   "source": [
    "## Wrangling"
   ]
  },
  {
   "cell_type": "code",
   "execution_count": 370,
   "metadata": {},
   "outputs": [],
   "source": [
    "import pandas as pd\n",
    "import numpy as np\n",
    "import matplotlib.pyplot as plt\n",
    "%matplotlib inline "
   ]
  },
  {
   "cell_type": "code",
   "execution_count": 371,
   "metadata": {},
   "outputs": [],
   "source": [
    "df_total = pd.read_csv('energy_production_total.csv', index_col='country')\n",
    "df_oil = pd.read_csv('oil_production_total.csv', index_col='country')\n",
    "df_gas = pd.read_csv('natural_gas_production_total.csv', index_col='country')\n",
    "#df_hydro = pd.read_csv('hydro_power_generation_total.csv', index_col='country')\n",
    "#df_nuclear = pd.read_csv('nuclear_power_generation_total.csv', index_col='country')"
   ]
  },
  {
   "cell_type": "code",
   "execution_count": 372,
   "metadata": {},
   "outputs": [
    {
     "data": {
      "text/html": [
       "<div>\n",
       "<style scoped>\n",
       "    .dataframe tbody tr th:only-of-type {\n",
       "        vertical-align: middle;\n",
       "    }\n",
       "\n",
       "    .dataframe tbody tr th {\n",
       "        vertical-align: top;\n",
       "    }\n",
       "\n",
       "    .dataframe thead th {\n",
       "        text-align: right;\n",
       "    }\n",
       "</style>\n",
       "<table border=\"1\" class=\"dataframe\">\n",
       "  <thead>\n",
       "    <tr style=\"text-align: right;\">\n",
       "      <th></th>\n",
       "      <th>1960</th>\n",
       "      <th>1961</th>\n",
       "      <th>1962</th>\n",
       "      <th>1963</th>\n",
       "      <th>1964</th>\n",
       "      <th>1965</th>\n",
       "      <th>1966</th>\n",
       "      <th>1967</th>\n",
       "      <th>1968</th>\n",
       "      <th>1969</th>\n",
       "      <th>...</th>\n",
       "      <th>2001</th>\n",
       "      <th>2002</th>\n",
       "      <th>2003</th>\n",
       "      <th>2004</th>\n",
       "      <th>2005</th>\n",
       "      <th>2006</th>\n",
       "      <th>2007</th>\n",
       "      <th>2008</th>\n",
       "      <th>2009</th>\n",
       "      <th>2010</th>\n",
       "    </tr>\n",
       "    <tr>\n",
       "      <th>country</th>\n",
       "      <th></th>\n",
       "      <th></th>\n",
       "      <th></th>\n",
       "      <th></th>\n",
       "      <th></th>\n",
       "      <th></th>\n",
       "      <th></th>\n",
       "      <th></th>\n",
       "      <th></th>\n",
       "      <th></th>\n",
       "      <th></th>\n",
       "      <th></th>\n",
       "      <th></th>\n",
       "      <th></th>\n",
       "      <th></th>\n",
       "      <th></th>\n",
       "      <th></th>\n",
       "      <th></th>\n",
       "      <th></th>\n",
       "      <th></th>\n",
       "      <th></th>\n",
       "    </tr>\n",
       "  </thead>\n",
       "  <tbody>\n",
       "    <tr>\n",
       "      <th>Albania</th>\n",
       "      <td>NaN</td>\n",
       "      <td>NaN</td>\n",
       "      <td>NaN</td>\n",
       "      <td>NaN</td>\n",
       "      <td>NaN</td>\n",
       "      <td>NaN</td>\n",
       "      <td>NaN</td>\n",
       "      <td>NaN</td>\n",
       "      <td>NaN</td>\n",
       "      <td>NaN</td>\n",
       "      <td>...</td>\n",
       "      <td>883.0</td>\n",
       "      <td>959.0</td>\n",
       "      <td>1050.0</td>\n",
       "      <td>1150.0</td>\n",
       "      <td>1170.0</td>\n",
       "      <td>1190.0</td>\n",
       "      <td>1060.0</td>\n",
       "      <td>1150.0</td>\n",
       "      <td>1250.0</td>\n",
       "      <td>NaN</td>\n",
       "    </tr>\n",
       "    <tr>\n",
       "      <th>Algeria</th>\n",
       "      <td>NaN</td>\n",
       "      <td>NaN</td>\n",
       "      <td>NaN</td>\n",
       "      <td>NaN</td>\n",
       "      <td>NaN</td>\n",
       "      <td>NaN</td>\n",
       "      <td>NaN</td>\n",
       "      <td>NaN</td>\n",
       "      <td>NaN</td>\n",
       "      <td>NaN</td>\n",
       "      <td>...</td>\n",
       "      <td>137000.0</td>\n",
       "      <td>143000.0</td>\n",
       "      <td>155000.0</td>\n",
       "      <td>158000.0</td>\n",
       "      <td>167000.0</td>\n",
       "      <td>165000.0</td>\n",
       "      <td>164000.0</td>\n",
       "      <td>162000.0</td>\n",
       "      <td>152000.0</td>\n",
       "      <td>NaN</td>\n",
       "    </tr>\n",
       "  </tbody>\n",
       "</table>\n",
       "<p>2 rows × 51 columns</p>\n",
       "</div>"
      ],
      "text/plain": [
       "         1960  1961  1962  1963  1964  1965  1966  1967  1968  1969  ...  \\\n",
       "country                                                              ...   \n",
       "Albania   NaN   NaN   NaN   NaN   NaN   NaN   NaN   NaN   NaN   NaN  ...   \n",
       "Algeria   NaN   NaN   NaN   NaN   NaN   NaN   NaN   NaN   NaN   NaN  ...   \n",
       "\n",
       "             2001      2002      2003      2004      2005      2006      2007  \\\n",
       "country                                                                         \n",
       "Albania     883.0     959.0    1050.0    1150.0    1170.0    1190.0    1060.0   \n",
       "Algeria  137000.0  143000.0  155000.0  158000.0  167000.0  165000.0  164000.0   \n",
       "\n",
       "             2008      2009  2010  \n",
       "country                            \n",
       "Albania    1150.0    1250.0   NaN  \n",
       "Algeria  162000.0  152000.0   NaN  \n",
       "\n",
       "[2 rows x 51 columns]"
      ]
     },
     "execution_count": 372,
     "metadata": {},
     "output_type": "execute_result"
    }
   ],
   "source": [
    "# All notebooks follow this pattern, missing values correspont to early years and year 2010.\n",
    "df_total.head(2)"
   ]
  },
  {
   "cell_type": "markdown",
   "metadata": {},
   "source": [
    "### Inspecting missing values"
   ]
  },
  {
   "cell_type": "code",
   "execution_count": 373,
   "metadata": {},
   "outputs": [
    {
     "data": {
      "text/plain": [
       "(count    133.000000\n",
       " mean      13.593985\n",
       " std       10.249196\n",
       " min        0.000000\n",
       " 25%       12.000000\n",
       " 50%       12.000000\n",
       " 75%       12.000000\n",
       " max       43.000000\n",
       " dtype: float64, '1960', '2010')"
      ]
     },
     "execution_count": 373,
     "metadata": {},
     "output_type": "execute_result"
    }
   ],
   "source": [
    "# Most total energy data has only 7 missing values\n",
    "frame=df_total\n",
    "frame.isnull().sum(axis=1).describe(), frame.columns[0], frame.columns[-1]"
   ]
  },
  {
   "cell_type": "code",
   "execution_count": 374,
   "metadata": {},
   "outputs": [
    {
     "data": {
      "text/plain": [
       "(count    49.000000\n",
       " mean      3.857143\n",
       " std       7.547074\n",
       " min       0.000000\n",
       " 25%       0.000000\n",
       " 50%       0.000000\n",
       " 75%       6.000000\n",
       " max      39.000000\n",
       " dtype: float64, '1970', '2016')"
      ]
     },
     "execution_count": 374,
     "metadata": {},
     "output_type": "execute_result"
    }
   ],
   "source": [
    "# Most gas energy data has only 6 missing values\n",
    "frame=df_gas\n",
    "frame.isnull().sum(axis=1).describe(), frame.columns[0], frame.columns[-1]"
   ]
  },
  {
   "cell_type": "code",
   "execution_count": 375,
   "metadata": {},
   "outputs": [
    {
     "data": {
      "text/plain": [
       "(count    49.000000\n",
       " mean      6.489796\n",
       " std      11.530977\n",
       " min       0.000000\n",
       " 25%       0.000000\n",
       " 50%       0.000000\n",
       " 75%       7.000000\n",
       " max      47.000000\n",
       " dtype: float64, '1965', '2016')"
      ]
     },
     "execution_count": 375,
     "metadata": {},
     "output_type": "execute_result"
    }
   ],
   "source": [
    "# Most oil energy data has only 7 missing values\n",
    "frame=df_oil\n",
    "frame.isnull().sum(axis=1).describe(), frame.columns[0], frame.columns[-1]"
   ]
  },
  {
   "cell_type": "markdown",
   "metadata": {},
   "source": [
    "**Insights:**\n",
    "\n",
    "1. All data frame have data from 1965 till 2010\n",
    "2. Most missing data (>75%) occurs before 1972"
   ]
  },
  {
   "cell_type": "markdown",
   "metadata": {},
   "source": [
    "### Wrangling and handling missing values"
   ]
  },
  {
   "cell_type": "code",
   "execution_count": 376,
   "metadata": {},
   "outputs": [
    {
     "data": {
      "text/plain": [
       "['74-76',\n",
       " '77-79',\n",
       " '80-82',\n",
       " '83-85',\n",
       " '86-88',\n",
       " '89-91',\n",
       " '92-94',\n",
       " '95-97',\n",
       " '98-00',\n",
       " '01-03',\n",
       " '04-06',\n",
       " '07-09']"
      ]
     },
     "execution_count": 376,
     "metadata": {},
     "output_type": "execute_result"
    }
   ],
   "source": [
    "# In view of the above observations we are going to focus on studying the following values\n",
    "bin_edges = [1974+3*i for i in range(13)]\n",
    "bin_names = [str(i)[-2:]+'-'+str(i+2)[-2:] for i in bin_edges[:-1]]\n",
    "bin_names"
   ]
  },
  {
   "cell_type": "code",
   "execution_count": 377,
   "metadata": {},
   "outputs": [],
   "source": [
    "def wrangle_handle_missing(df):\n",
    "    \n",
    "    aux = df.rename(columns=lambda x: int(x)) # numeric column names    \n",
    "    aux=aux.T # exchange rows and columns\n",
    "    aux=aux.rename(columns=lambda x: x.strip().lower().replace(\" \", \"_\")) #uniform names convention\n",
    "    \n",
    "    aux = aux.reset_index().rename(columns = {'index': 'year'}) # reset index, rename year\n",
    "    aux['period'] = pd.cut(aux['year'], bin_edges, labels=bin_names) # create bin years\n",
    "    aux=aux.groupby('period').sum().drop(columns=['year']) # group by energy on bin years    \n",
    "    if df_v2.isnull().sum().sum() != 0: print('There are missing values') #check there are not NaNs\n",
    "        \n",
    "    return aux"
   ]
  },
  {
   "cell_type": "code",
   "execution_count": 378,
   "metadata": {},
   "outputs": [],
   "source": [
    "df_total = wrangle_handle_missing(df_total)\n",
    "df_oil = wrangle_handle_missing(df_oil)\n",
    "df_gas = wrangle_handle_missing(df_gas)"
   ]
  },
  {
   "cell_type": "code",
   "execution_count": 379,
   "metadata": {},
   "outputs": [],
   "source": [
    "cols = df_total.sum(0).sort_values(ascending=False).index # Countries order according to total production\n",
    "\n",
    "df_total = df_total.reindex(cols, axis=1) # Sort columns according to cols list\n",
    "df_oil = df_oil.reindex(cols, axis=1) # Sort columns according to cols list\n",
    "df_gas = df_gas.reindex(cols, axis=1) # Sort columns according to cols list"
   ]
  },
  {
   "cell_type": "code",
   "execution_count": 380,
   "metadata": {},
   "outputs": [
    {
     "data": {
      "text/html": [
       "<div>\n",
       "<style scoped>\n",
       "    .dataframe tbody tr th:only-of-type {\n",
       "        vertical-align: middle;\n",
       "    }\n",
       "\n",
       "    .dataframe tbody tr th {\n",
       "        vertical-align: top;\n",
       "    }\n",
       "\n",
       "    .dataframe thead th {\n",
       "        text-align: right;\n",
       "    }\n",
       "</style>\n",
       "<table border=\"1\" class=\"dataframe\">\n",
       "  <thead>\n",
       "    <tr style=\"text-align: right;\">\n",
       "      <th>country</th>\n",
       "      <th>united_states</th>\n",
       "      <th>china</th>\n",
       "      <th>russia</th>\n",
       "      <th>saudi_arabia</th>\n",
       "      <th>canada</th>\n",
       "      <th>india</th>\n",
       "      <th>iran</th>\n",
       "      <th>united_kingdom</th>\n",
       "      <th>mexico</th>\n",
       "      <th>indonesia</th>\n",
       "      <th>...</th>\n",
       "      <th>armenia</th>\n",
       "      <th>eritrea</th>\n",
       "      <th>lebanon</th>\n",
       "      <th>jordan</th>\n",
       "      <th>namibia</th>\n",
       "      <th>luxembourg</th>\n",
       "      <th>moldova</th>\n",
       "      <th>cyprus</th>\n",
       "      <th>singapore</th>\n",
       "      <th>malta</th>\n",
       "    </tr>\n",
       "    <tr>\n",
       "      <th>period</th>\n",
       "      <th></th>\n",
       "      <th></th>\n",
       "      <th></th>\n",
       "      <th></th>\n",
       "      <th></th>\n",
       "      <th></th>\n",
       "      <th></th>\n",
       "      <th></th>\n",
       "      <th></th>\n",
       "      <th></th>\n",
       "      <th></th>\n",
       "      <th></th>\n",
       "      <th></th>\n",
       "      <th></th>\n",
       "      <th></th>\n",
       "      <th></th>\n",
       "      <th></th>\n",
       "      <th></th>\n",
       "      <th></th>\n",
       "      <th></th>\n",
       "      <th></th>\n",
       "    </tr>\n",
       "  </thead>\n",
       "  <tbody>\n",
       "    <tr>\n",
       "      <th>74-76</th>\n",
       "      <td>4280000.0</td>\n",
       "      <td>1565000.0</td>\n",
       "      <td>0.0</td>\n",
       "      <td>1284000.0</td>\n",
       "      <td>560000.0</td>\n",
       "      <td>510000.0</td>\n",
       "      <td>899000.0</td>\n",
       "      <td>397000.0</td>\n",
       "      <td>210100.0</td>\n",
       "      <td>318300.0</td>\n",
       "      <td>...</td>\n",
       "      <td>0.0</td>\n",
       "      <td>0.0</td>\n",
       "      <td>534.0</td>\n",
       "      <td>2.794</td>\n",
       "      <td>0.0</td>\n",
       "      <td>34.37</td>\n",
       "      <td>0.0</td>\n",
       "      <td>22.12</td>\n",
       "      <td>0.0</td>\n",
       "      <td>0.0</td>\n",
       "    </tr>\n",
       "    <tr>\n",
       "      <th>77-79</th>\n",
       "      <td>4550000.0</td>\n",
       "      <td>1839000.0</td>\n",
       "      <td>0.0</td>\n",
       "      <td>1468000.0</td>\n",
       "      <td>608000.0</td>\n",
       "      <td>546000.0</td>\n",
       "      <td>529800.0</td>\n",
       "      <td>558000.0</td>\n",
       "      <td>356000.0</td>\n",
       "      <td>368000.0</td>\n",
       "      <td>...</td>\n",
       "      <td>0.0</td>\n",
       "      <td>0.0</td>\n",
       "      <td>534.0</td>\n",
       "      <td>2.079</td>\n",
       "      <td>0.0</td>\n",
       "      <td>79.70</td>\n",
       "      <td>0.0</td>\n",
       "      <td>22.84</td>\n",
       "      <td>0.0</td>\n",
       "      <td>0.0</td>\n",
       "    </tr>\n",
       "    <tr>\n",
       "      <th>80-82</th>\n",
       "      <td>4550000.0</td>\n",
       "      <td>1919000.0</td>\n",
       "      <td>0.0</td>\n",
       "      <td>1176000.0</td>\n",
       "      <td>611000.0</td>\n",
       "      <td>633000.0</td>\n",
       "      <td>342400.0</td>\n",
       "      <td>662000.0</td>\n",
       "      <td>560000.0</td>\n",
       "      <td>361000.0</td>\n",
       "      <td>...</td>\n",
       "      <td>0.0</td>\n",
       "      <td>0.0</td>\n",
       "      <td>489.0</td>\n",
       "      <td>3.032</td>\n",
       "      <td>0.0</td>\n",
       "      <td>87.40</td>\n",
       "      <td>0.0</td>\n",
       "      <td>17.82</td>\n",
       "      <td>0.0</td>\n",
       "      <td>0.0</td>\n",
       "    </tr>\n",
       "    <tr>\n",
       "      <th>83-85</th>\n",
       "      <td>4720000.0</td>\n",
       "      <td>2224000.0</td>\n",
       "      <td>0.0</td>\n",
       "      <td>751000.0</td>\n",
       "      <td>710000.0</td>\n",
       "      <td>723000.0</td>\n",
       "      <td>345000.0</td>\n",
       "      <td>690000.0</td>\n",
       "      <td>570000.0</td>\n",
       "      <td>401000.0</td>\n",
       "      <td>...</td>\n",
       "      <td>0.0</td>\n",
       "      <td>0.0</td>\n",
       "      <td>463.0</td>\n",
       "      <td>19.040</td>\n",
       "      <td>0.0</td>\n",
       "      <td>87.70</td>\n",
       "      <td>0.0</td>\n",
       "      <td>20.08</td>\n",
       "      <td>0.0</td>\n",
       "      <td>0.0</td>\n",
       "    </tr>\n",
       "    <tr>\n",
       "      <th>86-88</th>\n",
       "      <td>4830000.0</td>\n",
       "      <td>2462000.0</td>\n",
       "      <td>0.0</td>\n",
       "      <td>847000.0</td>\n",
       "      <td>800000.0</td>\n",
       "      <td>814000.0</td>\n",
       "      <td>414000.0</td>\n",
       "      <td>685000.0</td>\n",
       "      <td>572000.0</td>\n",
       "      <td>426000.0</td>\n",
       "      <td>...</td>\n",
       "      <td>0.0</td>\n",
       "      <td>0.0</td>\n",
       "      <td>464.0</td>\n",
       "      <td>98.200</td>\n",
       "      <td>0.0</td>\n",
       "      <td>105.40</td>\n",
       "      <td>0.0</td>\n",
       "      <td>18.54</td>\n",
       "      <td>0.0</td>\n",
       "      <td>0.0</td>\n",
       "    </tr>\n",
       "    <tr>\n",
       "      <th>89-91</th>\n",
       "      <td>4940000.0</td>\n",
       "      <td>2693000.0</td>\n",
       "      <td>3650000.0</td>\n",
       "      <td>1316000.0</td>\n",
       "      <td>853000.0</td>\n",
       "      <td>900000.0</td>\n",
       "      <td>577000.0</td>\n",
       "      <td>638000.0</td>\n",
       "      <td>599000.0</td>\n",
       "      <td>540000.0</td>\n",
       "      <td>...</td>\n",
       "      <td>535.0</td>\n",
       "      <td>708.0</td>\n",
       "      <td>461.0</td>\n",
       "      <td>492.000</td>\n",
       "      <td>429.0</td>\n",
       "      <td>104.90</td>\n",
       "      <td>181.8</td>\n",
       "      <td>17.17</td>\n",
       "      <td>0.0</td>\n",
       "      <td>0.0</td>\n",
       "    </tr>\n",
       "  </tbody>\n",
       "</table>\n",
       "<p>6 rows × 133 columns</p>\n",
       "</div>"
      ],
      "text/plain": [
       "country  united_states      china     russia  saudi_arabia    canada  \\\n",
       "period                                                                 \n",
       "74-76        4280000.0  1565000.0        0.0     1284000.0  560000.0   \n",
       "77-79        4550000.0  1839000.0        0.0     1468000.0  608000.0   \n",
       "80-82        4550000.0  1919000.0        0.0     1176000.0  611000.0   \n",
       "83-85        4720000.0  2224000.0        0.0      751000.0  710000.0   \n",
       "86-88        4830000.0  2462000.0        0.0      847000.0  800000.0   \n",
       "89-91        4940000.0  2693000.0  3650000.0     1316000.0  853000.0   \n",
       "\n",
       "country     india      iran  united_kingdom    mexico  indonesia  ...  \\\n",
       "period                                                            ...   \n",
       "74-76    510000.0  899000.0        397000.0  210100.0   318300.0  ...   \n",
       "77-79    546000.0  529800.0        558000.0  356000.0   368000.0  ...   \n",
       "80-82    633000.0  342400.0        662000.0  560000.0   361000.0  ...   \n",
       "83-85    723000.0  345000.0        690000.0  570000.0   401000.0  ...   \n",
       "86-88    814000.0  414000.0        685000.0  572000.0   426000.0  ...   \n",
       "89-91    900000.0  577000.0        638000.0  599000.0   540000.0  ...   \n",
       "\n",
       "country  armenia  eritrea  lebanon   jordan  namibia  luxembourg  moldova  \\\n",
       "period                                                                      \n",
       "74-76        0.0      0.0    534.0    2.794      0.0       34.37      0.0   \n",
       "77-79        0.0      0.0    534.0    2.079      0.0       79.70      0.0   \n",
       "80-82        0.0      0.0    489.0    3.032      0.0       87.40      0.0   \n",
       "83-85        0.0      0.0    463.0   19.040      0.0       87.70      0.0   \n",
       "86-88        0.0      0.0    464.0   98.200      0.0      105.40      0.0   \n",
       "89-91      535.0    708.0    461.0  492.000    429.0      104.90    181.8   \n",
       "\n",
       "country  cyprus  singapore  malta  \n",
       "period                             \n",
       "74-76     22.12        0.0    0.0  \n",
       "77-79     22.84        0.0    0.0  \n",
       "80-82     17.82        0.0    0.0  \n",
       "83-85     20.08        0.0    0.0  \n",
       "86-88     18.54        0.0    0.0  \n",
       "89-91     17.17        0.0    0.0  \n",
       "\n",
       "[6 rows x 133 columns]"
      ]
     },
     "execution_count": 380,
     "metadata": {},
     "output_type": "execute_result"
    }
   ],
   "source": [
    "# Some countries were funded recently, hence their missing values appear before 1990ish\n",
    "df_total.head(6)"
   ]
  },
  {
   "cell_type": "code",
   "execution_count": 381,
   "metadata": {},
   "outputs": [],
   "source": [
    "def handling_new_countries(df_0):  \n",
    "    df= df_0[df_0!=0] # replacing 0's with NaNs\n",
    "    for i in df.columns:\n",
    "        aux = df[i].min() \n",
    "        df[i].fillna(aux, inplace=True) # replacing NaNs with country min\n",
    "    return df"
   ]
  },
  {
   "cell_type": "code",
   "execution_count": 382,
   "metadata": {},
   "outputs": [],
   "source": [
    "df_total = handling_new_countries(df_total)\n",
    "df_oil = handling_new_countries(df_oil)\n",
    "df_gas = handling_new_countries(df_gas)"
   ]
  },
  {
   "cell_type": "code",
   "execution_count": 383,
   "metadata": {},
   "outputs": [
    {
     "data": {
      "text/html": [
       "<div>\n",
       "<style scoped>\n",
       "    .dataframe tbody tr th:only-of-type {\n",
       "        vertical-align: middle;\n",
       "    }\n",
       "\n",
       "    .dataframe tbody tr th {\n",
       "        vertical-align: top;\n",
       "    }\n",
       "\n",
       "    .dataframe thead th {\n",
       "        text-align: right;\n",
       "    }\n",
       "</style>\n",
       "<table border=\"1\" class=\"dataframe\">\n",
       "  <thead>\n",
       "    <tr style=\"text-align: right;\">\n",
       "      <th>country</th>\n",
       "      <th>united_states</th>\n",
       "      <th>china</th>\n",
       "      <th>russia</th>\n",
       "      <th>saudi_arabia</th>\n",
       "      <th>canada</th>\n",
       "      <th>india</th>\n",
       "      <th>iran</th>\n",
       "      <th>united_kingdom</th>\n",
       "      <th>mexico</th>\n",
       "      <th>indonesia</th>\n",
       "      <th>...</th>\n",
       "      <th>armenia</th>\n",
       "      <th>eritrea</th>\n",
       "      <th>lebanon</th>\n",
       "      <th>jordan</th>\n",
       "      <th>namibia</th>\n",
       "      <th>luxembourg</th>\n",
       "      <th>moldova</th>\n",
       "      <th>cyprus</th>\n",
       "      <th>singapore</th>\n",
       "      <th>malta</th>\n",
       "    </tr>\n",
       "    <tr>\n",
       "      <th>period</th>\n",
       "      <th></th>\n",
       "      <th></th>\n",
       "      <th></th>\n",
       "      <th></th>\n",
       "      <th></th>\n",
       "      <th></th>\n",
       "      <th></th>\n",
       "      <th></th>\n",
       "      <th></th>\n",
       "      <th></th>\n",
       "      <th></th>\n",
       "      <th></th>\n",
       "      <th></th>\n",
       "      <th></th>\n",
       "      <th></th>\n",
       "      <th></th>\n",
       "      <th></th>\n",
       "      <th></th>\n",
       "      <th></th>\n",
       "      <th></th>\n",
       "      <th></th>\n",
       "    </tr>\n",
       "  </thead>\n",
       "  <tbody>\n",
       "    <tr>\n",
       "      <th>74-76</th>\n",
       "      <td>1.391000e+09</td>\n",
       "      <td>257900000.0</td>\n",
       "      <td>9.140000e+08</td>\n",
       "      <td>1.264000e+09</td>\n",
       "      <td>232500000.0</td>\n",
       "      <td>27140000.0</td>\n",
       "      <td>852000000.0</td>\n",
       "      <td>52070000.0</td>\n",
       "      <td>139400000.0</td>\n",
       "      <td>226900000.0</td>\n",
       "      <td>...</td>\n",
       "      <td>NaN</td>\n",
       "      <td>NaN</td>\n",
       "      <td>NaN</td>\n",
       "      <td>NaN</td>\n",
       "      <td>NaN</td>\n",
       "      <td>NaN</td>\n",
       "      <td>NaN</td>\n",
       "      <td>NaN</td>\n",
       "      <td>NaN</td>\n",
       "      <td>NaN</td>\n",
       "    </tr>\n",
       "    <tr>\n",
       "      <th>77-79</th>\n",
       "      <td>1.441000e+09</td>\n",
       "      <td>316000000.0</td>\n",
       "      <td>9.140000e+08</td>\n",
       "      <td>1.422000e+09</td>\n",
       "      <td>244800000.0</td>\n",
       "      <td>33500000.0</td>\n",
       "      <td>499200000.0</td>\n",
       "      <td>212400000.0</td>\n",
       "      <td>254400000.0</td>\n",
       "      <td>240600000.0</td>\n",
       "      <td>...</td>\n",
       "      <td>NaN</td>\n",
       "      <td>NaN</td>\n",
       "      <td>NaN</td>\n",
       "      <td>NaN</td>\n",
       "      <td>NaN</td>\n",
       "      <td>NaN</td>\n",
       "      <td>NaN</td>\n",
       "      <td>NaN</td>\n",
       "      <td>NaN</td>\n",
       "      <td>NaN</td>\n",
       "    </tr>\n",
       "    <tr>\n",
       "      <th>80-82</th>\n",
       "      <td>1.443000e+09</td>\n",
       "      <td>309000000.0</td>\n",
       "      <td>9.140000e+08</td>\n",
       "      <td>1.086000e+09</td>\n",
       "      <td>228600000.0</td>\n",
       "      <td>60300000.0</td>\n",
       "      <td>309200000.0</td>\n",
       "      <td>307500000.0</td>\n",
       "      <td>426000000.0</td>\n",
       "      <td>217300000.0</td>\n",
       "      <td>...</td>\n",
       "      <td>NaN</td>\n",
       "      <td>NaN</td>\n",
       "      <td>NaN</td>\n",
       "      <td>NaN</td>\n",
       "      <td>NaN</td>\n",
       "      <td>NaN</td>\n",
       "      <td>NaN</td>\n",
       "      <td>NaN</td>\n",
       "      <td>NaN</td>\n",
       "      <td>NaN</td>\n",
       "    </tr>\n",
       "    <tr>\n",
       "      <th>83-85</th>\n",
       "      <td>1.477000e+09</td>\n",
       "      <td>371000000.0</td>\n",
       "      <td>1.103000e+09</td>\n",
       "      <td>6.440000e+08</td>\n",
       "      <td>255200000.0</td>\n",
       "      <td>90000000.0</td>\n",
       "      <td>316000000.0</td>\n",
       "      <td>381000000.0</td>\n",
       "      <td>431000000.0</td>\n",
       "      <td>211600000.0</td>\n",
       "      <td>...</td>\n",
       "      <td>NaN</td>\n",
       "      <td>NaN</td>\n",
       "      <td>NaN</td>\n",
       "      <td>NaN</td>\n",
       "      <td>NaN</td>\n",
       "      <td>NaN</td>\n",
       "      <td>NaN</td>\n",
       "      <td>NaN</td>\n",
       "      <td>NaN</td>\n",
       "      <td>NaN</td>\n",
       "    </tr>\n",
       "    <tr>\n",
       "      <th>86-88</th>\n",
       "      <td>1.355000e+09</td>\n",
       "      <td>409000000.0</td>\n",
       "      <td>1.690000e+09</td>\n",
       "      <td>7.690000e+08</td>\n",
       "      <td>278000000.0</td>\n",
       "      <td>97400000.0</td>\n",
       "      <td>378000000.0</td>\n",
       "      <td>328700000.0</td>\n",
       "      <td>429000000.0</td>\n",
       "      <td>208700000.0</td>\n",
       "      <td>...</td>\n",
       "      <td>NaN</td>\n",
       "      <td>NaN</td>\n",
       "      <td>NaN</td>\n",
       "      <td>NaN</td>\n",
       "      <td>NaN</td>\n",
       "      <td>NaN</td>\n",
       "      <td>NaN</td>\n",
       "      <td>NaN</td>\n",
       "      <td>NaN</td>\n",
       "      <td>NaN</td>\n",
       "    </tr>\n",
       "  </tbody>\n",
       "</table>\n",
       "<p>5 rows × 133 columns</p>\n",
       "</div>"
      ],
      "text/plain": [
       "country  united_states        china        russia  saudi_arabia       canada  \\\n",
       "period                                                                         \n",
       "74-76     1.391000e+09  257900000.0  9.140000e+08  1.264000e+09  232500000.0   \n",
       "77-79     1.441000e+09  316000000.0  9.140000e+08  1.422000e+09  244800000.0   \n",
       "80-82     1.443000e+09  309000000.0  9.140000e+08  1.086000e+09  228600000.0   \n",
       "83-85     1.477000e+09  371000000.0  1.103000e+09  6.440000e+08  255200000.0   \n",
       "86-88     1.355000e+09  409000000.0  1.690000e+09  7.690000e+08  278000000.0   \n",
       "\n",
       "country       india         iran  united_kingdom       mexico    indonesia  \\\n",
       "period                                                                       \n",
       "74-76    27140000.0  852000000.0      52070000.0  139400000.0  226900000.0   \n",
       "77-79    33500000.0  499200000.0     212400000.0  254400000.0  240600000.0   \n",
       "80-82    60300000.0  309200000.0     307500000.0  426000000.0  217300000.0   \n",
       "83-85    90000000.0  316000000.0     381000000.0  431000000.0  211600000.0   \n",
       "86-88    97400000.0  378000000.0     328700000.0  429000000.0  208700000.0   \n",
       "\n",
       "country  ...  armenia  eritrea  lebanon  jordan  namibia  luxembourg  moldova  \\\n",
       "period   ...                                                                    \n",
       "74-76    ...      NaN      NaN      NaN     NaN      NaN         NaN      NaN   \n",
       "77-79    ...      NaN      NaN      NaN     NaN      NaN         NaN      NaN   \n",
       "80-82    ...      NaN      NaN      NaN     NaN      NaN         NaN      NaN   \n",
       "83-85    ...      NaN      NaN      NaN     NaN      NaN         NaN      NaN   \n",
       "86-88    ...      NaN      NaN      NaN     NaN      NaN         NaN      NaN   \n",
       "\n",
       "country  cyprus  singapore  malta  \n",
       "period                             \n",
       "74-76       NaN        NaN    NaN  \n",
       "77-79       NaN        NaN    NaN  \n",
       "80-82       NaN        NaN    NaN  \n",
       "83-85       NaN        NaN    NaN  \n",
       "86-88       NaN        NaN    NaN  \n",
       "\n",
       "[5 rows x 133 columns]"
      ]
     },
     "execution_count": 383,
     "metadata": {},
     "output_type": "execute_result"
    }
   ],
   "source": [
    "df_oil.head()"
   ]
  },
  {
   "cell_type": "markdown",
   "metadata": {},
   "source": [
    "## Merging"
   ]
  },
  {
   "cell_type": "code",
   "execution_count": 384,
   "metadata": {},
   "outputs": [],
   "source": [
    "aux=df_total \n",
    "aux['energy_source']= ['total']* len(aux)\n",
    "df_total=aux.set_index('energy_source',append=True)"
   ]
  },
  {
   "cell_type": "code",
   "execution_count": 385,
   "metadata": {},
   "outputs": [],
   "source": [
    "aux=df_oil\n",
    "aux['energy_source']= ['oil']* len(aux)\n",
    "df_oil=aux.set_index('energy_source',append=True)"
   ]
  },
  {
   "cell_type": "code",
   "execution_count": 386,
   "metadata": {},
   "outputs": [],
   "source": [
    "aux=df_gas\n",
    "aux['energy_source']= ['gas']* len(aux)\n",
    "df_gas=aux.set_index('energy_source',append=True)"
   ]
  },
  {
   "cell_type": "code",
   "execution_count": 387,
   "metadata": {},
   "outputs": [],
   "source": [
    "df_total = df_total.reset_index().set_index(['energy_source','period'],  drop=True) \n",
    "df_oil = df_oil.reset_index().set_index(['energy_source','period'],  drop=True) \n",
    "df_gas = df_gas.reset_index().set_index(['energy_source','period'],  drop=True) "
   ]
  },
  {
   "cell_type": "code",
   "execution_count": 388,
   "metadata": {},
   "outputs": [],
   "source": [
    "df = df_total.append([df_oil,df_gas])"
   ]
  },
  {
   "cell_type": "code",
   "execution_count": 401,
   "metadata": {},
   "outputs": [
    {
     "data": {
      "text/plain": [
       "period\n",
       "74-76    397000.0\n",
       "77-79    558000.0\n",
       "80-82    662000.0\n",
       "83-85    690000.0\n",
       "86-88    685000.0\n",
       "89-91    638000.0\n",
       "92-94    726000.0\n",
       "95-97    809000.0\n",
       "98-00    817000.0\n",
       "01-03    731000.0\n",
       "04-06    569000.0\n",
       "07-09    476000.0\n",
       "Name: united_kingdom, dtype: float64"
      ]
     },
     "execution_count": 401,
     "metadata": {},
     "output_type": "execute_result"
    }
   ],
   "source": [
    "#Example of handling\n",
    "df.united_kingdom.loc[('total')]"
   ]
  },
  {
   "cell_type": "markdown",
   "metadata": {},
   "source": [
    "# Analysis"
   ]
  },
  {
   "cell_type": "code",
   "execution_count": 426,
   "metadata": {},
   "outputs": [],
   "source": [
    "import matplotlib.pyplot as plt\n",
    "%matplotlib inline"
   ]
  },
  {
   "cell_type": "code",
   "execution_count": 439,
   "metadata": {},
   "outputs": [
    {
     "data": {
      "image/png": "[encoded data removed]",
      "text/plain": [
       "<Figure size 432x288 with 1 Axes>"
      ]
     },
     "metadata": {
      "needs_background": "light"
     },
     "output_type": "display_data"
    }
   ],
   "source": [
    "plt.hist(df.loc[('total')].sum(axis=0) , bins= 30);\n",
    "plt.title(\"Distribution of Energy production\")\n",
    "plt.xlabel(\"Tonnes of oil equivalent \")\n",
    "plt.ylabel(\"Number of countries\");"
   ]
  },
  {
   "cell_type": "code",
   "execution_count": 471,
   "metadata": {},
   "outputs": [],
   "source": [
    "# Total energy percentage produced by each country\n",
    "total_percentage = (df.loc[('total')].sum(axis=0)/ df.loc[('total')].sum(axis=0).sum()*100)"
   ]
  },
  {
   "cell_type": "code",
   "execution_count": 491,
   "metadata": {},
   "outputs": [
    {
     "data": {
      "image/png": "[encoded data removed]",
      "text/plain": [
       "<Figure size 432x288 with 1 Axes>"
      ]
     },
     "metadata": {
      "needs_background": "light"
     },
     "output_type": "display_data"
    }
   ],
   "source": [
    "plt.hist(total_percentage[total_percentage>1] , bins= 10);\n",
    "plt.title(\"Countries that produced > 1% between 1974-2009\")\n",
    "plt.xlabel(\"% of tonnes of oil equivalent\")\n",
    "plt.ylabel(\"Number of countries\");"
   ]
  },
  {
   "cell_type": "code",
   "execution_count": 493,
   "metadata": {},
   "outputs": [
    {
     "data": {
      "image/png": "[encoded data removed]",
      "text/plain": [
       "<Figure size 432x288 with 1 Axes>"
      ]
     },
     "metadata": {
      "needs_background": "light"
     },
     "output_type": "display_data"
    }
   ],
   "source": [
    "plt.hist(total_percentage[total_percentage<1] , bins= 15);\n",
    "plt.title(\"Countries that produced > 1% between 1974-2009\")\n",
    "plt.xlabel(\"% of tonnes of oil equivalent\")\n",
    "plt.ylabel(\"Number of countries\");"
   ]
  },
  {
   "cell_type": "code",
   "execution_count": 510,
   "metadata": {},
   "outputs": [
    {
     "data": {
      "image/png": "[encoded data removed]",
      "text/plain": [
       "<Figure size 432x288 with 1 Axes>"
      ]
     },
     "metadata": {
      "needs_background": "light"
     },
     "output_type": "display_data"
    }
   ],
   "source": [
    "# Let us look at the period 2007-2009\n",
    "plt.hist(df.loc[('total','07-09')] , bins= 10);\n",
    "plt.title(\"Distribution of energy production\")\n",
    "plt.xlabel(\"Tonnes of oil equivalent \")\n",
    "plt.ylabel(\"Number of countries\");"
   ]
  },
  {
   "cell_type": "markdown",
   "metadata": {},
   "source": [
    "**Tentative conclusion: \n",
    "The vast majority of countries only produce less that 1e7 toe** "
   ]
  },
  {
   "cell_type": "markdown",
   "metadata": {},
   "source": [
    "**Top five countries that produced more energy**"
   ]
  },
  {
   "cell_type": "code",
   "execution_count": 515,
   "metadata": {},
   "outputs": [
    {
     "data": {
      "text/plain": [
       "country\n",
       "united_states    4280000.0\n",
       "russia           2430000.0\n",
       "china            1565000.0\n",
       "saudi_arabia     1284000.0\n",
       "iran              899000.0\n",
       "Name: (total, 74-76), dtype: float64"
      ]
     },
     "execution_count": 515,
     "metadata": {},
     "output_type": "execute_result"
    }
   ],
   "source": [
    "#Between 1974-1976\n",
    "df.loc[('total', '74-76')].sort_values(ascending = False)[:5]"
   ]
  },
  {
   "cell_type": "code",
   "execution_count": 498,
   "metadata": {},
   "outputs": [
    {
     "data": {
      "text/plain": [
       "country\n",
       "united_states    5030000.0\n",
       "china            3210000.0\n",
       "russia           2950000.0\n",
       "saudi_arabia     1394000.0\n",
       "canada           1114000.0\n",
       "Name: (total, 98-00), dtype: float64"
      ]
     },
     "execution_count": 498,
     "metadata": {},
     "output_type": "execute_result"
    }
   ],
   "source": [
    "#Between 1998-2000\n",
    "df.loc[('total', '98-00')].sort_values(ascending = False)[:5]"
   ]
  },
  {
   "cell_type": "code",
   "execution_count": 514,
   "metadata": {},
   "outputs": [
    {
     "data": {
      "text/plain": [
       "country\n",
       "united_states    5130000.0\n",
       "china            4080000.0\n",
       "russia           2430000.0\n",
       "canada           1192000.0\n",
       "saudi_arabia     1107000.0\n",
       "Name: (total, 07-09), dtype: float64"
      ]
     },
     "execution_count": 514,
     "metadata": {},
     "output_type": "execute_result"
    }
   ],
   "source": [
    "#Between 2007-2009\n",
    "df.loc[('total', '07-09')].sort_values(ascending = False)[:5]"
   ]
  },
  {
   "cell_type": "code",
   "execution_count": 502,
   "metadata": {},
   "outputs": [
    {
     "data": {
      "text/plain": [
       "count    1.330000e+02\n",
       "mean     2.130514e+05\n",
       "std      6.244945e+05\n",
       "min      1.977000e+00\n",
       "25%      8.060000e+03\n",
       "50%      3.380000e+04\n",
       "75%      1.582000e+05\n",
       "max      5.130000e+06\n",
       "Name: (total, 07-09), dtype: float64"
      ]
     },
     "execution_count": 502,
     "metadata": {},
     "output_type": "execute_result"
    }
   ],
   "source": [
    "df.loc[('total', '07-09')].sort_values(ascending = False).describe()"
   ]
  },
  {
   "cell_type": "markdown",
   "metadata": {},
   "source": [
    "### Oil and gas"
   ]
  },
  {
   "cell_type": "code",
   "execution_count": 518,
   "metadata": {},
   "outputs": [
    {
     "data": {
      "image/png": "[encoded data removed]",
      "text/plain": [
       "<Figure size 432x288 with 1 Axes>"
      ]
     },
     "metadata": {
      "needs_background": "light"
     },
     "output_type": "display_data"
    }
   ],
   "source": [
    "plt.hist(df.loc[('oil')].sum(axis=0) , bins= 30);\n",
    "plt.title(\"Distribution of oil production\")\n",
    "plt.xlabel(\"Tonnes of oil\")\n",
    "plt.ylabel(\"Number of countries\");"
   ]
  },
  {
   "cell_type": "code",
   "execution_count": 519,
   "metadata": {},
   "outputs": [
    {
     "data": {
      "image/png": "[encoded data removed]",
      "text/plain": [
       "<Figure size 432x288 with 1 Axes>"
      ]
     },
     "metadata": {
      "needs_background": "light"
     },
     "output_type": "display_data"
    }
   ],
   "source": [
    "plt.hist(df.loc[('gas')].sum(axis=0) , bins= 30);\n",
    "plt.title(\"Distribution of oil production\")\n",
    "plt.xlabel(\"Tonnes of gas\")\n",
    "plt.ylabel(\"Number of countries\");"
   ]
  },
  {
   "cell_type": "code",
   "execution_count": null,
   "metadata": {},
   "outputs": [],
   "source": [
    "plt.hist(total_percentage[total_percentage<1] , bins= 15);\n",
    "plt.title(\"Countries that produced > 1% between 1974-2009\")\n",
    "plt.xlabel(\"% of tonnes of oil equivalent\")\n",
    "plt.ylabel(\"Number of countries\");"
   ]
  },
  {
   "cell_type": "code",
   "execution_count": 520,
   "metadata": {},
   "outputs": [],
   "source": [
    "# Total gas energy percentage produced by each country\n",
    "total_percentage = (df.loc[('oil')].sum(axis=0)/ df.loc[('oil')].sum(axis=0).sum()*100)"
   ]
  },
  {
   "cell_type": "code",
   "execution_count": 524,
   "metadata": {},
   "outputs": [
    {
     "data": {
      "image/png": "[encoded data removed]",
      "text/plain": [
       "<Figure size 432x288 with 1 Axes>"
      ]
     },
     "metadata": {
      "needs_background": "light"
     },
     "output_type": "display_data"
    }
   ],
   "source": [
    "plt.hist(total_percentage[total_percentage>1] , bins= 10);\n",
    "plt.title(\"Countries that produced > 5% between 1974-2009\")\n",
    "plt.xlabel(\"% of tonnes of oil equivalent\")\n",
    "plt.ylabel(\"Number of countries\");"
   ]
  },
  {
   "cell_type": "code",
   "execution_count": 525,
   "metadata": {},
   "outputs": [
    {
     "data": {
      "image/png": "[encoded data removed]",
      "text/plain": [
       "<Figure size 432x288 with 1 Axes>"
      ]
     },
     "metadata": {
      "needs_background": "light"
     },
     "output_type": "display_data"
    }
   ],
   "source": [
    "plt.hist(total_percentage[total_percentage<1] , bins= 10);\n",
    "plt.title(\"Countries that produced > 5% between 1974-2009\")\n",
    "plt.xlabel(\"% of tonnes of oil equivalent\")\n",
    "plt.ylabel(\"Number of countries\");"
   ]
  },
  {
   "cell_type": "markdown",
   "metadata": {},
   "source": [
    "# Alternative energies"
   ]
  },
  {
   "cell_type": "code",
   "execution_count": 533,
   "metadata": {},
   "outputs": [
    {
     "data": {
      "text/plain": [
       "period\n",
       "74-76    4280000.0\n",
       "77-79    4550000.0\n",
       "80-82    4550000.0\n",
       "83-85    4720000.0\n",
       "86-88    4830000.0\n",
       "89-91    4940000.0\n",
       "92-94    4920000.0\n",
       "95-97    5050000.0\n",
       "98-00    5030000.0\n",
       "01-03    4940000.0\n",
       "04-06    4950000.0\n",
       "07-09    5130000.0\n",
       "Name: united_states, dtype: float64"
      ]
     },
     "execution_count": 533,
     "metadata": {},
     "output_type": "execute_result"
    }
   ],
   "source": [
    "df.united_states['total'] "
   ]
  },
  {
   "cell_type": "code",
   "execution_count": 532,
   "metadata": {},
   "outputs": [
    {
     "data": {
      "text/plain": [
       "(period\n",
       " 74-76    1.391000e+09\n",
       " 77-79    1.441000e+09\n",
       " 80-82    1.443000e+09\n",
       " 83-85    1.477000e+09\n",
       " 86-88    1.355000e+09\n",
       " 89-91    1.253000e+09\n",
       " 92-94    1.169000e+09\n",
       " 95-97    1.130000e+09\n",
       " 98-00    1.046000e+09\n",
       " 01-03    1.000000e+09\n",
       " 04-06    9.190000e+08\n",
       " 07-09    9.570000e+08\n",
       " Name: united_states, dtype: float64, period\n",
       " 74-76    1.479000e+09\n",
       " 77-79    1.499000e+09\n",
       " 80-82    1.376000e+09\n",
       " 83-85    1.299000e+09\n",
       " 86-88    1.325000e+09\n",
       " 89-91    1.384000e+09\n",
       " 92-94    1.437000e+09\n",
       " 95-97    1.470000e+09\n",
       " 98-00    1.490000e+09\n",
       " 01-03    1.464000e+09\n",
       " 04-06    1.446000e+09\n",
       " 07-09    1.605000e+09\n",
       " Name: united_states, dtype: float64)"
      ]
     },
     "execution_count": 532,
     "metadata": {},
     "output_type": "execute_result"
    }
   ],
   "source": [
    " df.united_states['oil'] , df.united_states['gas'] "
   ]
  },
  {
   "cell_type": "code",
   "execution_count": null,
   "metadata": {},
   "outputs": [],
   "source": []
  }
 ],
 "metadata": {
  "kernelspec": {
   "display_name": "Python 3",
   "language": "python",
   "name": "python3"
  },
  "language_info": {
   "codemirror_mode": {
    "name": "ipython",
    "version": 3
   },
   "file_extension": ".py",
   "mimetype": "text/x-python",
   "name": "python",
   "nbconvert_exporter": "python",
   "pygments_lexer": "ipython3",
   "version": "3.7.1"
  }
 },
 "nbformat": 4,
 "nbformat_minor": 2
}
