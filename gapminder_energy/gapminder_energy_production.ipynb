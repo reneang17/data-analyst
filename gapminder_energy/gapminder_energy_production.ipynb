{
 "cells": [
  {
   "cell_type": "markdown",
   "metadata": {},
   "source": [
    "# Energy production from 1970 to 2010\n",
    "\n",
    "We investigate the energy production data provided by \n",
    "\n",
    "https://www.gapminder.org/data/\n",
    "\n",
    "********************\n",
    "To answer the following questions:\n",
    "\n",
    "What were the tendencies in the energy production in from 1970 to 2010?\n",
    "\n",
    "How is the energy production distribution around the world in this period?\n",
    "\n",
    "Do energy production other than  oil, gas, nuclear played an important role?\n",
    "********************\n",
    "\n",
    "## Data\n",
    "\n",
    "\n",
    "**Energy production, total**\n",
    "\n",
    "Description: Energy production refers to forms of primary energy petroleum (crude oil, natural gas liquids, and \n",
    "Oil from nonconventional sources), natural gas, solid fuels (coal, lignite and other derived fuels), and combustible \n",
    "renewables and waste— and primary electricity, all converted into tonnes of oil equivalents, counted in tonnes \n",
    "of oil equivalent (thousand of tonnes oil equivalent).\n",
    "\n",
    "https://data.worldbank.org/indicator/EG.EGY.PROD.KT.OE\n",
    "\n",
    "**Oil production, total**\n",
    "\n",
    "Description: Total amount of crude oil production (tonnes oil equivalent)\n",
    "\n",
    "https://www.bp.com/en/global/corporate/energy-economics/statistical-review-of-world-energy.html\n",
    "\n",
    "\n",
    "**Natural gas production, total**\n",
    "\n",
    "Description: Natural gas production (tonnes oil equivalent)\n",
    "\n",
    "https://www.bp.com/en/global/corporate/energy-economics/statistical-review-of-world-energy.html\n",
    "\n",
    "**Hydro electricity production, total**\n",
    "\n",
    "Description: The amount of hydro power generated during the given year, counted in tonnes of oil equivalent (tonnes oil equivalent)\n",
    "\n",
    "https://data.worldbank.org/indicator/EG.ELC.HYRO.KH\n",
    "\n",
    "**Nuclear electricity production, total**\n",
    "\n",
    "Description: The amount of electricity produced by nuclear power plants in a given year, counted in tonnes of oil equivalent (toe)\n",
    "\n",
    "https://data.worldbank.org/indicator/EG.ELC.NUCL.KH\n",
    "\n"
   ]
  },
  {
   "cell_type": "markdown",
   "metadata": {},
   "source": [
    "## Wrangling"
   ]
  },
  {
   "cell_type": "code",
   "execution_count": 1,
   "metadata": {},
   "outputs": [],
   "source": [
    "import pandas as pd\n",
    "import numpy as np\n",
    "import matplotlib.pyplot as plt\n",
    "%matplotlib inline "
   ]
  },
  {
   "cell_type": "code",
   "execution_count": 2,
   "metadata": {},
   "outputs": [],
   "source": [
    "df_total = pd.read_csv('energy_production_total.csv', index_col='country')*1000 # The 1000 unit conversion into toe (tonnes of oil equivalent)\n",
    "df_oil = pd.read_csv('oil_production_total.csv', index_col='country')\n",
    "df_gas = pd.read_csv('natural_gas_production_total.csv', index_col='country')\n",
    "#df_hydro = pd.read_csv('hydro_power_generation_total.csv', index_col='country')\n",
    "#df_nuclear = pd.read_csv('nuclear_power_generation_total.csv', index_col='country')"
   ]
  },
  {
   "cell_type": "code",
   "execution_count": 3,
   "metadata": {},
   "outputs": [
    {
     "data": {
      "text/html": [
       "<div>\n",
       "<style scoped>\n",
       "    .dataframe tbody tr th:only-of-type {\n",
       "        vertical-align: middle;\n",
       "    }\n",
       "\n",
       "    .dataframe tbody tr th {\n",
       "        vertical-align: top;\n",
       "    }\n",
       "\n",
       "    .dataframe thead th {\n",
       "        text-align: right;\n",
       "    }\n",
       "</style>\n",
       "<table border=\"1\" class=\"dataframe\">\n",
       "  <thead>\n",
       "    <tr style=\"text-align: right;\">\n",
       "      <th></th>\n",
       "      <th>1960</th>\n",
       "      <th>1961</th>\n",
       "      <th>1962</th>\n",
       "      <th>1963</th>\n",
       "      <th>1964</th>\n",
       "      <th>1965</th>\n",
       "      <th>1966</th>\n",
       "      <th>1967</th>\n",
       "      <th>1968</th>\n",
       "      <th>1969</th>\n",
       "      <th>...</th>\n",
       "      <th>2001</th>\n",
       "      <th>2002</th>\n",
       "      <th>2003</th>\n",
       "      <th>2004</th>\n",
       "      <th>2005</th>\n",
       "      <th>2006</th>\n",
       "      <th>2007</th>\n",
       "      <th>2008</th>\n",
       "      <th>2009</th>\n",
       "      <th>2010</th>\n",
       "    </tr>\n",
       "    <tr>\n",
       "      <th>country</th>\n",
       "      <th></th>\n",
       "      <th></th>\n",
       "      <th></th>\n",
       "      <th></th>\n",
       "      <th></th>\n",
       "      <th></th>\n",
       "      <th></th>\n",
       "      <th></th>\n",
       "      <th></th>\n",
       "      <th></th>\n",
       "      <th></th>\n",
       "      <th></th>\n",
       "      <th></th>\n",
       "      <th></th>\n",
       "      <th></th>\n",
       "      <th></th>\n",
       "      <th></th>\n",
       "      <th></th>\n",
       "      <th></th>\n",
       "      <th></th>\n",
       "      <th></th>\n",
       "    </tr>\n",
       "  </thead>\n",
       "  <tbody>\n",
       "    <tr>\n",
       "      <th>Albania</th>\n",
       "      <td>NaN</td>\n",
       "      <td>NaN</td>\n",
       "      <td>NaN</td>\n",
       "      <td>NaN</td>\n",
       "      <td>NaN</td>\n",
       "      <td>NaN</td>\n",
       "      <td>NaN</td>\n",
       "      <td>NaN</td>\n",
       "      <td>NaN</td>\n",
       "      <td>NaN</td>\n",
       "      <td>...</td>\n",
       "      <td>883000.0</td>\n",
       "      <td>959000.0</td>\n",
       "      <td>1050000.0</td>\n",
       "      <td>1150000.0</td>\n",
       "      <td>1170000.0</td>\n",
       "      <td>1190000.0</td>\n",
       "      <td>1060000.0</td>\n",
       "      <td>1150000.0</td>\n",
       "      <td>1250000.0</td>\n",
       "      <td>NaN</td>\n",
       "    </tr>\n",
       "    <tr>\n",
       "      <th>Algeria</th>\n",
       "      <td>NaN</td>\n",
       "      <td>NaN</td>\n",
       "      <td>NaN</td>\n",
       "      <td>NaN</td>\n",
       "      <td>NaN</td>\n",
       "      <td>NaN</td>\n",
       "      <td>NaN</td>\n",
       "      <td>NaN</td>\n",
       "      <td>NaN</td>\n",
       "      <td>NaN</td>\n",
       "      <td>...</td>\n",
       "      <td>137000000.0</td>\n",
       "      <td>143000000.0</td>\n",
       "      <td>155000000.0</td>\n",
       "      <td>158000000.0</td>\n",
       "      <td>167000000.0</td>\n",
       "      <td>165000000.0</td>\n",
       "      <td>164000000.0</td>\n",
       "      <td>162000000.0</td>\n",
       "      <td>152000000.0</td>\n",
       "      <td>NaN</td>\n",
       "    </tr>\n",
       "  </tbody>\n",
       "</table>\n",
       "<p>2 rows × 51 columns</p>\n",
       "</div>"
      ],
      "text/plain": [
       "         1960  1961  1962  1963  1964  1965  1966  1967  1968  1969  ...  \\\n",
       "country                                                              ...   \n",
       "Albania   NaN   NaN   NaN   NaN   NaN   NaN   NaN   NaN   NaN   NaN  ...   \n",
       "Algeria   NaN   NaN   NaN   NaN   NaN   NaN   NaN   NaN   NaN   NaN  ...   \n",
       "\n",
       "                2001         2002         2003         2004         2005  \\\n",
       "country                                                                    \n",
       "Albania     883000.0     959000.0    1050000.0    1150000.0    1170000.0   \n",
       "Algeria  137000000.0  143000000.0  155000000.0  158000000.0  167000000.0   \n",
       "\n",
       "                2006         2007         2008         2009  2010  \n",
       "country                                                            \n",
       "Albania    1190000.0    1060000.0    1150000.0    1250000.0   NaN  \n",
       "Algeria  165000000.0  164000000.0  162000000.0  152000000.0   NaN  \n",
       "\n",
       "[2 rows x 51 columns]"
      ]
     },
     "execution_count": 3,
     "metadata": {},
     "output_type": "execute_result"
    }
   ],
   "source": [
    "# All notebooks follow this pattern, missing values correspont to early years and year 2010.\n",
    "df_total.head(2)"
   ]
  },
  {
   "cell_type": "markdown",
   "metadata": {},
   "source": [
    "### Inspecting missing values"
   ]
  },
  {
   "cell_type": "code",
   "execution_count": 4,
   "metadata": {},
   "outputs": [
    {
     "data": {
      "text/plain": [
       "(count    133.000000\n",
       " mean      13.593985\n",
       " std       10.249196\n",
       " min        0.000000\n",
       " 25%       12.000000\n",
       " 50%       12.000000\n",
       " 75%       12.000000\n",
       " max       43.000000\n",
       " dtype: float64, '1960', '2010')"
      ]
     },
     "execution_count": 4,
     "metadata": {},
     "output_type": "execute_result"
    }
   ],
   "source": [
    "# Most total energy data has only 7 missing values\n",
    "frame=df_total\n",
    "frame.isnull().sum(axis=1).describe(), frame.columns[0], frame.columns[-1]"
   ]
  },
  {
   "cell_type": "code",
   "execution_count": 5,
   "metadata": {},
   "outputs": [
    {
     "data": {
      "text/plain": [
       "(count    49.000000\n",
       " mean      3.857143\n",
       " std       7.547074\n",
       " min       0.000000\n",
       " 25%       0.000000\n",
       " 50%       0.000000\n",
       " 75%       6.000000\n",
       " max      39.000000\n",
       " dtype: float64, '1970', '2016')"
      ]
     },
     "execution_count": 5,
     "metadata": {},
     "output_type": "execute_result"
    }
   ],
   "source": [
    "# Most gas energy data has only 6 missing values\n",
    "frame=df_gas\n",
    "frame.isnull().sum(axis=1).describe(), frame.columns[0], frame.columns[-1]"
   ]
  },
  {
   "cell_type": "code",
   "execution_count": 6,
   "metadata": {},
   "outputs": [
    {
     "data": {
      "text/plain": [
       "(count    49.000000\n",
       " mean      6.489796\n",
       " std      11.530977\n",
       " min       0.000000\n",
       " 25%       0.000000\n",
       " 50%       0.000000\n",
       " 75%       7.000000\n",
       " max      47.000000\n",
       " dtype: float64, '1965', '2016')"
      ]
     },
     "execution_count": 6,
     "metadata": {},
     "output_type": "execute_result"
    }
   ],
   "source": [
    "# Most oil energy data has only 7 missing values\n",
    "frame=df_oil\n",
    "frame.isnull().sum(axis=1).describe(), frame.columns[0], frame.columns[-1]"
   ]
  },
  {
   "cell_type": "markdown",
   "metadata": {},
   "source": [
    "**Insights:**\n",
    "\n",
    "1. All data frame have data from 1965 till 2010\n",
    "2. Most missing data (>75%) occurs before 1972"
   ]
  },
  {
   "cell_type": "markdown",
   "metadata": {},
   "source": [
    "### Wrangling and handling missing values"
   ]
  },
  {
   "cell_type": "code",
   "execution_count": 7,
   "metadata": {},
   "outputs": [
    {
     "data": {
      "text/plain": [
       "['74-76',\n",
       " '77-79',\n",
       " '80-82',\n",
       " '83-85',\n",
       " '86-88',\n",
       " '89-91',\n",
       " '92-94',\n",
       " '95-97',\n",
       " '98-00',\n",
       " '01-03',\n",
       " '04-06',\n",
       " '07-09']"
      ]
     },
     "execution_count": 7,
     "metadata": {},
     "output_type": "execute_result"
    }
   ],
   "source": [
    "# In view of the above observations we are going to focus on studying the following values\n",
    "bin_edges = [1974+3*i for i in range(13)]\n",
    "bin_names = [str(i)[-2:]+'-'+str(i+2)[-2:] for i in bin_edges[:-1]]\n",
    "bin_names"
   ]
  },
  {
   "cell_type": "code",
   "execution_count": 8,
   "metadata": {},
   "outputs": [],
   "source": [
    "def wrangle_handle_missing(df):\n",
    "    \n",
    "    aux = df.rename(columns=lambda x: int(x)) # numeric column names    \n",
    "    aux=aux.T # exchange rows and columns\n",
    "    aux=aux.rename(columns=lambda x: x.strip().lower().replace(\" \", \"_\")) #uniform names convention\n",
    "    \n",
    "    aux = aux.reset_index().rename(columns = {'index': 'year'}) # reset index, rename year\n",
    "    aux['period'] = pd.cut(aux['year'], bin_edges, labels=bin_names) # create bin years\n",
    "    aux=aux.groupby('period').sum().drop(columns=['year']) # group by energy on bin years    \n",
    "    if aux.isnull().sum().sum() != 0: print('There are missing values') #check there are not NaNs\n",
    "        \n",
    "    return aux"
   ]
  },
  {
   "cell_type": "code",
   "execution_count": 9,
   "metadata": {},
   "outputs": [],
   "source": [
    "df_total = wrangle_handle_missing(df_total)\n",
    "df_oil = wrangle_handle_missing(df_oil)\n",
    "df_gas = wrangle_handle_missing(df_gas)"
   ]
  },
  {
   "cell_type": "code",
   "execution_count": 10,
   "metadata": {},
   "outputs": [],
   "source": [
    "cols = df_total.sum(0).sort_values(ascending=False).index # Countries order according to total production\n",
    "\n",
    "df_total = df_total.reindex(cols, axis=1) # Sort columns according to cols list\n",
    "df_oil = df_oil.reindex(cols, axis=1) # Sort columns according to cols list\n",
    "df_gas = df_gas.reindex(cols, axis=1) # Sort columns according to cols list"
   ]
  },
  {
   "cell_type": "code",
   "execution_count": 11,
   "metadata": {},
   "outputs": [
    {
     "data": {
      "text/html": [
       "<div>\n",
       "<style scoped>\n",
       "    .dataframe tbody tr th:only-of-type {\n",
       "        vertical-align: middle;\n",
       "    }\n",
       "\n",
       "    .dataframe tbody tr th {\n",
       "        vertical-align: top;\n",
       "    }\n",
       "\n",
       "    .dataframe thead th {\n",
       "        text-align: right;\n",
       "    }\n",
       "</style>\n",
       "<table border=\"1\" class=\"dataframe\">\n",
       "  <thead>\n",
       "    <tr style=\"text-align: right;\">\n",
       "      <th>country</th>\n",
       "      <th>united_states</th>\n",
       "      <th>china</th>\n",
       "      <th>russia</th>\n",
       "      <th>saudi_arabia</th>\n",
       "      <th>canada</th>\n",
       "      <th>india</th>\n",
       "      <th>iran</th>\n",
       "      <th>united_kingdom</th>\n",
       "      <th>mexico</th>\n",
       "      <th>indonesia</th>\n",
       "      <th>...</th>\n",
       "      <th>armenia</th>\n",
       "      <th>eritrea</th>\n",
       "      <th>lebanon</th>\n",
       "      <th>jordan</th>\n",
       "      <th>namibia</th>\n",
       "      <th>luxembourg</th>\n",
       "      <th>moldova</th>\n",
       "      <th>cyprus</th>\n",
       "      <th>singapore</th>\n",
       "      <th>malta</th>\n",
       "    </tr>\n",
       "    <tr>\n",
       "      <th>period</th>\n",
       "      <th></th>\n",
       "      <th></th>\n",
       "      <th></th>\n",
       "      <th></th>\n",
       "      <th></th>\n",
       "      <th></th>\n",
       "      <th></th>\n",
       "      <th></th>\n",
       "      <th></th>\n",
       "      <th></th>\n",
       "      <th></th>\n",
       "      <th></th>\n",
       "      <th></th>\n",
       "      <th></th>\n",
       "      <th></th>\n",
       "      <th></th>\n",
       "      <th></th>\n",
       "      <th></th>\n",
       "      <th></th>\n",
       "      <th></th>\n",
       "      <th></th>\n",
       "    </tr>\n",
       "  </thead>\n",
       "  <tbody>\n",
       "    <tr>\n",
       "      <th>74-76</th>\n",
       "      <td>4.280000e+09</td>\n",
       "      <td>1.565000e+09</td>\n",
       "      <td>0.000000e+00</td>\n",
       "      <td>1.284000e+09</td>\n",
       "      <td>560000000.0</td>\n",
       "      <td>510000000.0</td>\n",
       "      <td>899000000.0</td>\n",
       "      <td>397000000.0</td>\n",
       "      <td>210100000.0</td>\n",
       "      <td>318300000.0</td>\n",
       "      <td>...</td>\n",
       "      <td>0.0</td>\n",
       "      <td>0.0</td>\n",
       "      <td>534000.0</td>\n",
       "      <td>2794.0</td>\n",
       "      <td>0.0</td>\n",
       "      <td>34370.0</td>\n",
       "      <td>0.0</td>\n",
       "      <td>22120.0</td>\n",
       "      <td>0.0</td>\n",
       "      <td>0.0</td>\n",
       "    </tr>\n",
       "    <tr>\n",
       "      <th>77-79</th>\n",
       "      <td>4.550000e+09</td>\n",
       "      <td>1.839000e+09</td>\n",
       "      <td>0.000000e+00</td>\n",
       "      <td>1.468000e+09</td>\n",
       "      <td>608000000.0</td>\n",
       "      <td>546000000.0</td>\n",
       "      <td>529800000.0</td>\n",
       "      <td>558000000.0</td>\n",
       "      <td>356000000.0</td>\n",
       "      <td>368000000.0</td>\n",
       "      <td>...</td>\n",
       "      <td>0.0</td>\n",
       "      <td>0.0</td>\n",
       "      <td>534000.0</td>\n",
       "      <td>2079.0</td>\n",
       "      <td>0.0</td>\n",
       "      <td>79700.0</td>\n",
       "      <td>0.0</td>\n",
       "      <td>22840.0</td>\n",
       "      <td>0.0</td>\n",
       "      <td>0.0</td>\n",
       "    </tr>\n",
       "    <tr>\n",
       "      <th>80-82</th>\n",
       "      <td>4.550000e+09</td>\n",
       "      <td>1.919000e+09</td>\n",
       "      <td>0.000000e+00</td>\n",
       "      <td>1.176000e+09</td>\n",
       "      <td>611000000.0</td>\n",
       "      <td>633000000.0</td>\n",
       "      <td>342400000.0</td>\n",
       "      <td>662000000.0</td>\n",
       "      <td>560000000.0</td>\n",
       "      <td>361000000.0</td>\n",
       "      <td>...</td>\n",
       "      <td>0.0</td>\n",
       "      <td>0.0</td>\n",
       "      <td>489000.0</td>\n",
       "      <td>3032.0</td>\n",
       "      <td>0.0</td>\n",
       "      <td>87400.0</td>\n",
       "      <td>0.0</td>\n",
       "      <td>17820.0</td>\n",
       "      <td>0.0</td>\n",
       "      <td>0.0</td>\n",
       "    </tr>\n",
       "    <tr>\n",
       "      <th>83-85</th>\n",
       "      <td>4.720000e+09</td>\n",
       "      <td>2.224000e+09</td>\n",
       "      <td>0.000000e+00</td>\n",
       "      <td>7.510000e+08</td>\n",
       "      <td>710000000.0</td>\n",
       "      <td>723000000.0</td>\n",
       "      <td>345000000.0</td>\n",
       "      <td>690000000.0</td>\n",
       "      <td>570000000.0</td>\n",
       "      <td>401000000.0</td>\n",
       "      <td>...</td>\n",
       "      <td>0.0</td>\n",
       "      <td>0.0</td>\n",
       "      <td>463000.0</td>\n",
       "      <td>19040.0</td>\n",
       "      <td>0.0</td>\n",
       "      <td>87700.0</td>\n",
       "      <td>0.0</td>\n",
       "      <td>20080.0</td>\n",
       "      <td>0.0</td>\n",
       "      <td>0.0</td>\n",
       "    </tr>\n",
       "    <tr>\n",
       "      <th>86-88</th>\n",
       "      <td>4.830000e+09</td>\n",
       "      <td>2.462000e+09</td>\n",
       "      <td>0.000000e+00</td>\n",
       "      <td>8.470000e+08</td>\n",
       "      <td>800000000.0</td>\n",
       "      <td>814000000.0</td>\n",
       "      <td>414000000.0</td>\n",
       "      <td>685000000.0</td>\n",
       "      <td>572000000.0</td>\n",
       "      <td>426000000.0</td>\n",
       "      <td>...</td>\n",
       "      <td>0.0</td>\n",
       "      <td>0.0</td>\n",
       "      <td>464000.0</td>\n",
       "      <td>98200.0</td>\n",
       "      <td>0.0</td>\n",
       "      <td>105400.0</td>\n",
       "      <td>0.0</td>\n",
       "      <td>18540.0</td>\n",
       "      <td>0.0</td>\n",
       "      <td>0.0</td>\n",
       "    </tr>\n",
       "    <tr>\n",
       "      <th>89-91</th>\n",
       "      <td>4.940000e+09</td>\n",
       "      <td>2.693000e+09</td>\n",
       "      <td>3.650000e+09</td>\n",
       "      <td>1.316000e+09</td>\n",
       "      <td>853000000.0</td>\n",
       "      <td>900000000.0</td>\n",
       "      <td>577000000.0</td>\n",
       "      <td>638000000.0</td>\n",
       "      <td>599000000.0</td>\n",
       "      <td>540000000.0</td>\n",
       "      <td>...</td>\n",
       "      <td>535000.0</td>\n",
       "      <td>708000.0</td>\n",
       "      <td>461000.0</td>\n",
       "      <td>492000.0</td>\n",
       "      <td>429000.0</td>\n",
       "      <td>104900.0</td>\n",
       "      <td>181800.0</td>\n",
       "      <td>17170.0</td>\n",
       "      <td>0.0</td>\n",
       "      <td>0.0</td>\n",
       "    </tr>\n",
       "  </tbody>\n",
       "</table>\n",
       "<p>6 rows × 133 columns</p>\n",
       "</div>"
      ],
      "text/plain": [
       "country  united_states         china        russia  saudi_arabia       canada  \\\n",
       "period                                                                          \n",
       "74-76     4.280000e+09  1.565000e+09  0.000000e+00  1.284000e+09  560000000.0   \n",
       "77-79     4.550000e+09  1.839000e+09  0.000000e+00  1.468000e+09  608000000.0   \n",
       "80-82     4.550000e+09  1.919000e+09  0.000000e+00  1.176000e+09  611000000.0   \n",
       "83-85     4.720000e+09  2.224000e+09  0.000000e+00  7.510000e+08  710000000.0   \n",
       "86-88     4.830000e+09  2.462000e+09  0.000000e+00  8.470000e+08  800000000.0   \n",
       "89-91     4.940000e+09  2.693000e+09  3.650000e+09  1.316000e+09  853000000.0   \n",
       "\n",
       "country        india         iran  united_kingdom       mexico    indonesia  \\\n",
       "period                                                                        \n",
       "74-76    510000000.0  899000000.0     397000000.0  210100000.0  318300000.0   \n",
       "77-79    546000000.0  529800000.0     558000000.0  356000000.0  368000000.0   \n",
       "80-82    633000000.0  342400000.0     662000000.0  560000000.0  361000000.0   \n",
       "83-85    723000000.0  345000000.0     690000000.0  570000000.0  401000000.0   \n",
       "86-88    814000000.0  414000000.0     685000000.0  572000000.0  426000000.0   \n",
       "89-91    900000000.0  577000000.0     638000000.0  599000000.0  540000000.0   \n",
       "\n",
       "country  ...   armenia   eritrea   lebanon    jordan   namibia  luxembourg  \\\n",
       "period   ...                                                                 \n",
       "74-76    ...       0.0       0.0  534000.0    2794.0       0.0     34370.0   \n",
       "77-79    ...       0.0       0.0  534000.0    2079.0       0.0     79700.0   \n",
       "80-82    ...       0.0       0.0  489000.0    3032.0       0.0     87400.0   \n",
       "83-85    ...       0.0       0.0  463000.0   19040.0       0.0     87700.0   \n",
       "86-88    ...       0.0       0.0  464000.0   98200.0       0.0    105400.0   \n",
       "89-91    ...  535000.0  708000.0  461000.0  492000.0  429000.0    104900.0   \n",
       "\n",
       "country   moldova   cyprus  singapore  malta  \n",
       "period                                        \n",
       "74-76         0.0  22120.0        0.0    0.0  \n",
       "77-79         0.0  22840.0        0.0    0.0  \n",
       "80-82         0.0  17820.0        0.0    0.0  \n",
       "83-85         0.0  20080.0        0.0    0.0  \n",
       "86-88         0.0  18540.0        0.0    0.0  \n",
       "89-91    181800.0  17170.0        0.0    0.0  \n",
       "\n",
       "[6 rows x 133 columns]"
      ]
     },
     "execution_count": 11,
     "metadata": {},
     "output_type": "execute_result"
    }
   ],
   "source": [
    "# Some countries were funded recently, hence their missing values appear before 1990ish\n",
    "df_total.head(6)"
   ]
  },
  {
   "cell_type": "code",
   "execution_count": 12,
   "metadata": {},
   "outputs": [],
   "source": [
    "def handling_new_countries(df_0):  \n",
    "    df= df_0[df_0!=0] # replacing 0's with NaNs\n",
    "    for i in df.columns:\n",
    "        aux = df[i].min() \n",
    "        df[i].fillna(aux, inplace=True) # replacing NaNs with country min\n",
    "    return df"
   ]
  },
  {
   "cell_type": "code",
   "execution_count": 13,
   "metadata": {},
   "outputs": [],
   "source": [
    "df_total = handling_new_countries(df_total)\n",
    "df_oil = handling_new_countries(df_oil)\n",
    "df_gas = handling_new_countries(df_gas)"
   ]
  },
  {
   "cell_type": "code",
   "execution_count": 14,
   "metadata": {},
   "outputs": [
    {
     "data": {
      "text/html": [
       "<div>\n",
       "<style scoped>\n",
       "    .dataframe tbody tr th:only-of-type {\n",
       "        vertical-align: middle;\n",
       "    }\n",
       "\n",
       "    .dataframe tbody tr th {\n",
       "        vertical-align: top;\n",
       "    }\n",
       "\n",
       "    .dataframe thead th {\n",
       "        text-align: right;\n",
       "    }\n",
       "</style>\n",
       "<table border=\"1\" class=\"dataframe\">\n",
       "  <thead>\n",
       "    <tr style=\"text-align: right;\">\n",
       "      <th>country</th>\n",
       "      <th>united_states</th>\n",
       "      <th>china</th>\n",
       "      <th>russia</th>\n",
       "      <th>saudi_arabia</th>\n",
       "      <th>canada</th>\n",
       "      <th>india</th>\n",
       "      <th>iran</th>\n",
       "      <th>united_kingdom</th>\n",
       "      <th>mexico</th>\n",
       "      <th>indonesia</th>\n",
       "      <th>...</th>\n",
       "      <th>armenia</th>\n",
       "      <th>eritrea</th>\n",
       "      <th>lebanon</th>\n",
       "      <th>jordan</th>\n",
       "      <th>namibia</th>\n",
       "      <th>luxembourg</th>\n",
       "      <th>moldova</th>\n",
       "      <th>cyprus</th>\n",
       "      <th>singapore</th>\n",
       "      <th>malta</th>\n",
       "    </tr>\n",
       "    <tr>\n",
       "      <th>period</th>\n",
       "      <th></th>\n",
       "      <th></th>\n",
       "      <th></th>\n",
       "      <th></th>\n",
       "      <th></th>\n",
       "      <th></th>\n",
       "      <th></th>\n",
       "      <th></th>\n",
       "      <th></th>\n",
       "      <th></th>\n",
       "      <th></th>\n",
       "      <th></th>\n",
       "      <th></th>\n",
       "      <th></th>\n",
       "      <th></th>\n",
       "      <th></th>\n",
       "      <th></th>\n",
       "      <th></th>\n",
       "      <th></th>\n",
       "      <th></th>\n",
       "      <th></th>\n",
       "    </tr>\n",
       "  </thead>\n",
       "  <tbody>\n",
       "    <tr>\n",
       "      <th>74-76</th>\n",
       "      <td>1.391000e+09</td>\n",
       "      <td>257900000.0</td>\n",
       "      <td>9.140000e+08</td>\n",
       "      <td>1.264000e+09</td>\n",
       "      <td>232500000.0</td>\n",
       "      <td>27140000.0</td>\n",
       "      <td>852000000.0</td>\n",
       "      <td>52070000.0</td>\n",
       "      <td>139400000.0</td>\n",
       "      <td>226900000.0</td>\n",
       "      <td>...</td>\n",
       "      <td>NaN</td>\n",
       "      <td>NaN</td>\n",
       "      <td>NaN</td>\n",
       "      <td>NaN</td>\n",
       "      <td>NaN</td>\n",
       "      <td>NaN</td>\n",
       "      <td>NaN</td>\n",
       "      <td>NaN</td>\n",
       "      <td>NaN</td>\n",
       "      <td>NaN</td>\n",
       "    </tr>\n",
       "    <tr>\n",
       "      <th>77-79</th>\n",
       "      <td>1.441000e+09</td>\n",
       "      <td>316000000.0</td>\n",
       "      <td>9.140000e+08</td>\n",
       "      <td>1.422000e+09</td>\n",
       "      <td>244800000.0</td>\n",
       "      <td>33500000.0</td>\n",
       "      <td>499200000.0</td>\n",
       "      <td>212400000.0</td>\n",
       "      <td>254400000.0</td>\n",
       "      <td>240600000.0</td>\n",
       "      <td>...</td>\n",
       "      <td>NaN</td>\n",
       "      <td>NaN</td>\n",
       "      <td>NaN</td>\n",
       "      <td>NaN</td>\n",
       "      <td>NaN</td>\n",
       "      <td>NaN</td>\n",
       "      <td>NaN</td>\n",
       "      <td>NaN</td>\n",
       "      <td>NaN</td>\n",
       "      <td>NaN</td>\n",
       "    </tr>\n",
       "    <tr>\n",
       "      <th>80-82</th>\n",
       "      <td>1.443000e+09</td>\n",
       "      <td>309000000.0</td>\n",
       "      <td>9.140000e+08</td>\n",
       "      <td>1.086000e+09</td>\n",
       "      <td>228600000.0</td>\n",
       "      <td>60300000.0</td>\n",
       "      <td>309200000.0</td>\n",
       "      <td>307500000.0</td>\n",
       "      <td>426000000.0</td>\n",
       "      <td>217300000.0</td>\n",
       "      <td>...</td>\n",
       "      <td>NaN</td>\n",
       "      <td>NaN</td>\n",
       "      <td>NaN</td>\n",
       "      <td>NaN</td>\n",
       "      <td>NaN</td>\n",
       "      <td>NaN</td>\n",
       "      <td>NaN</td>\n",
       "      <td>NaN</td>\n",
       "      <td>NaN</td>\n",
       "      <td>NaN</td>\n",
       "    </tr>\n",
       "    <tr>\n",
       "      <th>83-85</th>\n",
       "      <td>1.477000e+09</td>\n",
       "      <td>371000000.0</td>\n",
       "      <td>1.103000e+09</td>\n",
       "      <td>6.440000e+08</td>\n",
       "      <td>255200000.0</td>\n",
       "      <td>90000000.0</td>\n",
       "      <td>316000000.0</td>\n",
       "      <td>381000000.0</td>\n",
       "      <td>431000000.0</td>\n",
       "      <td>211600000.0</td>\n",
       "      <td>...</td>\n",
       "      <td>NaN</td>\n",
       "      <td>NaN</td>\n",
       "      <td>NaN</td>\n",
       "      <td>NaN</td>\n",
       "      <td>NaN</td>\n",
       "      <td>NaN</td>\n",
       "      <td>NaN</td>\n",
       "      <td>NaN</td>\n",
       "      <td>NaN</td>\n",
       "      <td>NaN</td>\n",
       "    </tr>\n",
       "    <tr>\n",
       "      <th>86-88</th>\n",
       "      <td>1.355000e+09</td>\n",
       "      <td>409000000.0</td>\n",
       "      <td>1.690000e+09</td>\n",
       "      <td>7.690000e+08</td>\n",
       "      <td>278000000.0</td>\n",
       "      <td>97400000.0</td>\n",
       "      <td>378000000.0</td>\n",
       "      <td>328700000.0</td>\n",
       "      <td>429000000.0</td>\n",
       "      <td>208700000.0</td>\n",
       "      <td>...</td>\n",
       "      <td>NaN</td>\n",
       "      <td>NaN</td>\n",
       "      <td>NaN</td>\n",
       "      <td>NaN</td>\n",
       "      <td>NaN</td>\n",
       "      <td>NaN</td>\n",
       "      <td>NaN</td>\n",
       "      <td>NaN</td>\n",
       "      <td>NaN</td>\n",
       "      <td>NaN</td>\n",
       "    </tr>\n",
       "  </tbody>\n",
       "</table>\n",
       "<p>5 rows × 133 columns</p>\n",
       "</div>"
      ],
      "text/plain": [
       "country  united_states        china        russia  saudi_arabia       canada  \\\n",
       "period                                                                         \n",
       "74-76     1.391000e+09  257900000.0  9.140000e+08  1.264000e+09  232500000.0   \n",
       "77-79     1.441000e+09  316000000.0  9.140000e+08  1.422000e+09  244800000.0   \n",
       "80-82     1.443000e+09  309000000.0  9.140000e+08  1.086000e+09  228600000.0   \n",
       "83-85     1.477000e+09  371000000.0  1.103000e+09  6.440000e+08  255200000.0   \n",
       "86-88     1.355000e+09  409000000.0  1.690000e+09  7.690000e+08  278000000.0   \n",
       "\n",
       "country       india         iran  united_kingdom       mexico    indonesia  \\\n",
       "period                                                                       \n",
       "74-76    27140000.0  852000000.0      52070000.0  139400000.0  226900000.0   \n",
       "77-79    33500000.0  499200000.0     212400000.0  254400000.0  240600000.0   \n",
       "80-82    60300000.0  309200000.0     307500000.0  426000000.0  217300000.0   \n",
       "83-85    90000000.0  316000000.0     381000000.0  431000000.0  211600000.0   \n",
       "86-88    97400000.0  378000000.0     328700000.0  429000000.0  208700000.0   \n",
       "\n",
       "country  ...  armenia  eritrea  lebanon  jordan  namibia  luxembourg  moldova  \\\n",
       "period   ...                                                                    \n",
       "74-76    ...      NaN      NaN      NaN     NaN      NaN         NaN      NaN   \n",
       "77-79    ...      NaN      NaN      NaN     NaN      NaN         NaN      NaN   \n",
       "80-82    ...      NaN      NaN      NaN     NaN      NaN         NaN      NaN   \n",
       "83-85    ...      NaN      NaN      NaN     NaN      NaN         NaN      NaN   \n",
       "86-88    ...      NaN      NaN      NaN     NaN      NaN         NaN      NaN   \n",
       "\n",
       "country  cyprus  singapore  malta  \n",
       "period                             \n",
       "74-76       NaN        NaN    NaN  \n",
       "77-79       NaN        NaN    NaN  \n",
       "80-82       NaN        NaN    NaN  \n",
       "83-85       NaN        NaN    NaN  \n",
       "86-88       NaN        NaN    NaN  \n",
       "\n",
       "[5 rows x 133 columns]"
      ]
     },
     "execution_count": 14,
     "metadata": {},
     "output_type": "execute_result"
    }
   ],
   "source": [
    "df_oil.head()"
   ]
  },
  {
   "cell_type": "markdown",
   "metadata": {},
   "source": [
    "## Merging"
   ]
  },
  {
   "cell_type": "code",
   "execution_count": 15,
   "metadata": {},
   "outputs": [],
   "source": [
    "aux=df_total \n",
    "aux['energy_source']= ['total']* len(aux)\n",
    "df_total=aux.set_index('energy_source',append=True)"
   ]
  },
  {
   "cell_type": "code",
   "execution_count": 16,
   "metadata": {},
   "outputs": [],
   "source": [
    "aux=df_oil\n",
    "aux['energy_source']= ['oil']* len(aux)\n",
    "df_oil=aux.set_index('energy_source',append=True)"
   ]
  },
  {
   "cell_type": "code",
   "execution_count": 17,
   "metadata": {},
   "outputs": [],
   "source": [
    "aux=df_gas\n",
    "aux['energy_source']= ['gas']* len(aux)\n",
    "df_gas=aux.set_index('energy_source',append=True)"
   ]
  },
  {
   "cell_type": "code",
   "execution_count": 18,
   "metadata": {},
   "outputs": [],
   "source": [
    "df_total = df_total.reset_index().set_index(['energy_source','period'],  drop=True) \n",
    "df_oil = df_oil.reset_index().set_index(['energy_source','period'],  drop=True) \n",
    "df_gas = df_gas.reset_index().set_index(['energy_source','period'],  drop=True) "
   ]
  },
  {
   "cell_type": "code",
   "execution_count": 19,
   "metadata": {},
   "outputs": [],
   "source": [
    "df = df_total.append([df_oil,df_gas])"
   ]
  },
  {
   "cell_type": "code",
   "execution_count": 20,
   "metadata": {},
   "outputs": [
    {
     "data": {
      "text/plain": [
       "period\n",
       "74-76    397000000.0\n",
       "77-79    558000000.0\n",
       "80-82    662000000.0\n",
       "83-85    690000000.0\n",
       "86-88    685000000.0\n",
       "89-91    638000000.0\n",
       "92-94    726000000.0\n",
       "95-97    809000000.0\n",
       "98-00    817000000.0\n",
       "01-03    731000000.0\n",
       "04-06    569000000.0\n",
       "07-09    476000000.0\n",
       "Name: united_kingdom, dtype: float64"
      ]
     },
     "execution_count": 20,
     "metadata": {},
     "output_type": "execute_result"
    }
   ],
   "source": [
    "#Example of handling\n",
    "df.united_kingdom.loc[('total')]"
   ]
  },
  {
   "cell_type": "markdown",
   "metadata": {},
   "source": [
    "# Analysis"
   ]
  },
  {
   "cell_type": "code",
   "execution_count": 21,
   "metadata": {},
   "outputs": [],
   "source": [
    "import matplotlib.pyplot as plt\n",
    "%matplotlib inline"
   ]
  },
  {
   "cell_type": "code",
   "execution_count": 22,
   "metadata": {},
   "outputs": [
    {
     "data": {
      "image/png": "[encoded data removed]",
      "text/plain": [
       "<Figure size 432x288 with 1 Axes>"
      ]
     },
     "metadata": {
      "needs_background": "light"
     },
     "output_type": "display_data"
    }
   ],
   "source": [
    "plt.hist(df.loc[('total')].sum(axis=0) , bins= 30);\n",
    "plt.title(\"Distribution of Energy production\")\n",
    "plt.xlabel(\"Tonnes of oil equivalent \")\n",
    "plt.ylabel(\"Number of countries\");"
   ]
  },
  {
   "cell_type": "code",
   "execution_count": 23,
   "metadata": {},
   "outputs": [],
   "source": [
    "# Total energy percentage produced by each country\n",
    "total_percentage = (df.loc[('total')].sum(axis=0)/ df.loc[('total')].sum(axis=0).sum()*100)"
   ]
  },
  {
   "cell_type": "code",
   "execution_count": 24,
   "metadata": {},
   "outputs": [
    {
     "data": {
      "image/png": "[encoded data removed]",
      "text/plain": [
       "<Figure size 432x288 with 1 Axes>"
      ]
     },
     "metadata": {
      "needs_background": "light"
     },
     "output_type": "display_data"
    }
   ],
   "source": [
    "plt.hist(total_percentage[total_percentage>1] , bins= 10);\n",
    "plt.title(\"Countries that produced > 1% between 1974-2009\")\n",
    "plt.xlabel(\"% of tonnes of oil equivalent\")\n",
    "plt.ylabel(\"Number of countries\");"
   ]
  },
  {
   "cell_type": "code",
   "execution_count": 25,
   "metadata": {},
   "outputs": [
    {
     "data": {
      "image/png": "[encoded data removed]",
      "text/plain": [
       "<Figure size 432x288 with 1 Axes>"
      ]
     },
     "metadata": {
      "needs_background": "light"
     },
     "output_type": "display_data"
    }
   ],
   "source": [
    "plt.hist(total_percentage[total_percentage<1] , bins= 15);\n",
    "plt.title(\"Countries that produced > 1% between 1974-2009\")\n",
    "plt.xlabel(\"% of tonnes of oil equivalent\")\n",
    "plt.ylabel(\"Number of countries\");"
   ]
  },
  {
   "cell_type": "code",
   "execution_count": 26,
   "metadata": {},
   "outputs": [
    {
     "data": {
      "image/png": "[encoded data removed]",
      "text/plain": [
       "<Figure size 432x288 with 1 Axes>"
      ]
     },
     "metadata": {
      "needs_background": "light"
     },
     "output_type": "display_data"
    }
   ],
   "source": [
    "# Let us look at the period 2007-2009\n",
    "plt.hist(df.loc[('total','07-09')] , bins= 10);\n",
    "plt.title(\"Distribution of energy production\")\n",
    "plt.xlabel(\"Tonnes of oil equivalent \")\n",
    "plt.ylabel(\"Number of countries\");"
   ]
  },
  {
   "cell_type": "markdown",
   "metadata": {},
   "source": [
    "**Tentative conclusion: \n",
    "The vast majority of countries only produce less that 1e7 toe** "
   ]
  },
  {
   "cell_type": "markdown",
   "metadata": {},
   "source": [
    "**Top five countries that produced more energy**"
   ]
  },
  {
   "cell_type": "code",
   "execution_count": 27,
   "metadata": {},
   "outputs": [
    {
     "data": {
      "text/plain": [
       "country\n",
       "united_states    4.280000e+09\n",
       "russia           2.430000e+09\n",
       "china            1.565000e+09\n",
       "saudi_arabia     1.284000e+09\n",
       "iran             8.990000e+08\n",
       "Name: (total, 74-76), dtype: float64"
      ]
     },
     "execution_count": 27,
     "metadata": {},
     "output_type": "execute_result"
    }
   ],
   "source": [
    "#Between 1974-1976\n",
    "df.loc[('total', '74-76')].sort_values(ascending = False)[:5]"
   ]
  },
  {
   "cell_type": "code",
   "execution_count": 28,
   "metadata": {},
   "outputs": [
    {
     "data": {
      "text/plain": [
       "country\n",
       "united_states    5.030000e+09\n",
       "china            3.210000e+09\n",
       "russia           2.950000e+09\n",
       "saudi_arabia     1.394000e+09\n",
       "canada           1.114000e+09\n",
       "Name: (total, 98-00), dtype: float64"
      ]
     },
     "execution_count": 28,
     "metadata": {},
     "output_type": "execute_result"
    }
   ],
   "source": [
    "#Between 1998-2000\n",
    "df.loc[('total', '98-00')].sort_values(ascending = False)[:5]"
   ]
  },
  {
   "cell_type": "code",
   "execution_count": 29,
   "metadata": {},
   "outputs": [
    {
     "data": {
      "text/plain": [
       "country\n",
       "united_states    5.130000e+09\n",
       "china            4.080000e+09\n",
       "russia           2.430000e+09\n",
       "canada           1.192000e+09\n",
       "saudi_arabia     1.107000e+09\n",
       "Name: (total, 07-09), dtype: float64"
      ]
     },
     "execution_count": 29,
     "metadata": {},
     "output_type": "execute_result"
    }
   ],
   "source": [
    "#Between 2007-2009\n",
    "df.loc[('total', '07-09')].sort_values(ascending = False)[:5]"
   ]
  },
  {
   "cell_type": "code",
   "execution_count": 30,
   "metadata": {},
   "outputs": [
    {
     "data": {
      "text/plain": [
       "count    1.330000e+02\n",
       "mean     2.130514e+08\n",
       "std      6.244945e+08\n",
       "min      1.977000e+03\n",
       "25%      8.060000e+06\n",
       "50%      3.380000e+07\n",
       "75%      1.582000e+08\n",
       "max      5.130000e+09\n",
       "Name: (total, 07-09), dtype: float64"
      ]
     },
     "execution_count": 30,
     "metadata": {},
     "output_type": "execute_result"
    }
   ],
   "source": [
    "df.loc[('total', '07-09')].sort_values(ascending = False).describe()"
   ]
  },
  {
   "cell_type": "markdown",
   "metadata": {},
   "source": [
    "### Oil and gas"
   ]
  },
  {
   "cell_type": "code",
   "execution_count": 31,
   "metadata": {},
   "outputs": [
    {
     "data": {
      "image/png": "[encoded data removed]",
      "text/plain": [
       "<Figure size 432x288 with 1 Axes>"
      ]
     },
     "metadata": {
      "needs_background": "light"
     },
     "output_type": "display_data"
    }
   ],
   "source": [
    "plt.hist(df.loc[('oil')].sum(axis=0) , bins= 30);\n",
    "plt.title(\"Distribution of oil production\")\n",
    "plt.xlabel(\"Tonnes of oil\")\n",
    "plt.ylabel(\"Number of countries\");"
   ]
  },
  {
   "cell_type": "code",
   "execution_count": 32,
   "metadata": {},
   "outputs": [
    {
     "data": {
      "image/png": "[encoded data removed]",
      "text/plain": [
       "<Figure size 432x288 with 1 Axes>"
      ]
     },
     "metadata": {
      "needs_background": "light"
     },
     "output_type": "display_data"
    }
   ],
   "source": [
    "plt.hist(df.loc[('gas')].sum(axis=0) , bins= 30);\n",
    "plt.title(\"Distribution of oil production\")\n",
    "plt.xlabel(\"Tonnes of gas\")\n",
    "plt.ylabel(\"Number of countries\");"
   ]
  },
  {
   "cell_type": "code",
   "execution_count": 33,
   "metadata": {},
   "outputs": [
    {
     "data": {
      "image/png": "[encoded data removed]",
      "text/plain": [
       "<Figure size 432x288 with 1 Axes>"
      ]
     },
     "metadata": {
      "needs_background": "light"
     },
     "output_type": "display_data"
    }
   ],
   "source": [
    "plt.hist(total_percentage[total_percentage<1] , bins= 15);\n",
    "plt.title(\"Countries that produced > 1% between 1974-2009\")\n",
    "plt.xlabel(\"% of tonnes of oil equivalent\")\n",
    "plt.ylabel(\"Number of countries\");"
   ]
  },
  {
   "cell_type": "code",
   "execution_count": 34,
   "metadata": {},
   "outputs": [],
   "source": [
    "# Total gas energy percentage produced by each country\n",
    "total_percentage = (df.loc[('oil')].sum(axis=0)/ df.loc[('oil')].sum(axis=0).sum()*100)"
   ]
  },
  {
   "cell_type": "code",
   "execution_count": 35,
   "metadata": {},
   "outputs": [
    {
     "data": {
      "image/png": "[encoded data removed]",
      "text/plain": [
       "<Figure size 432x288 with 1 Axes>"
      ]
     },
     "metadata": {
      "needs_background": "light"
     },
     "output_type": "display_data"
    }
   ],
   "source": [
    "plt.hist(total_percentage[total_percentage>1] , bins= 10);\n",
    "plt.title(\"Countries that produced > 5% between 1974-2009\")\n",
    "plt.xlabel(\"% of tonnes of oil equivalent\")\n",
    "plt.ylabel(\"Number of countries\");"
   ]
  },
  {
   "cell_type": "code",
   "execution_count": 36,
   "metadata": {},
   "outputs": [
    {
     "data": {
      "image/png": "[encoded data removed]",
      "text/plain": [
       "<Figure size 432x288 with 1 Axes>"
      ]
     },
     "metadata": {
      "needs_background": "light"
     },
     "output_type": "display_data"
    }
   ],
   "source": [
    "plt.hist(total_percentage[total_percentage<1] , bins= 10);\n",
    "plt.title(\"Countries that produced > 5% between 1974-2009\")\n",
    "plt.xlabel(\"% of tonnes of oil equivalent\")\n",
    "plt.ylabel(\"Number of countries\");"
   ]
  },
  {
   "cell_type": "markdown",
   "metadata": {},
   "source": [
    "# Non-fosil energy production  in the USA"
   ]
  },
  {
   "cell_type": "code",
   "execution_count": 59,
   "metadata": {},
   "outputs": [],
   "source": [
    "us_nonfosil = df.united_states['total']  -  df.united_states['oil'] - df.united_states['gas'] "
   ]
  },
  {
   "cell_type": "code",
   "execution_count": 93,
   "metadata": {
    "scrolled": true
   },
   "outputs": [
    {
     "data": {
      "image/png": "[encoded data removed]",
      "text/plain": [
       "<Figure size 432x432 with 1 Axes>"
      ]
     },
     "metadata": {
      "needs_background": "light"
     },
     "output_type": "display_data"
    }
   ],
   "source": [
    "fig, ax = plt.subplots(figsize=(6, 6))\n",
    "df.united_states['total'].plot()\n",
    "df.united_states['oil'].plot()\n",
    "df.united_states['gas'].plot()\n",
    "ax.legend([ \"Total\",\"Oil\",\"Gas\"]);\n",
    "plt.xlabel(\"Years\")\n",
    "plt.ylabel(\"Tonnes of oil energy equivalent\");"
   ]
  },
  {
   "cell_type": "code",
   "execution_count": 92,
   "metadata": {},
   "outputs": [
    {
     "data": {
      "image/png": "[encoded data removed]",
      "text/plain": [
       "<Figure size 432x432 with 1 Axes>"
      ]
     },
     "metadata": {
      "needs_background": "light"
     },
     "output_type": "display_data"
    }
   ],
   "source": [
    "fig, ax = plt.subplots(figsize=(6, 6))\n",
    "df.sum(axis=1)['total'].plot()\n",
    "df.sum(axis=1)['oil'].plot()\n",
    "df.sum(axis=1)['gas'].plot()\n",
    "ax.legend([ \"Total\",\"Oil\",\"Gas\"]);\n",
    "plt.xlabel(\"Years\")\n",
    "plt.ylabel(\"Tonnes of oil energy equivalent\");"
   ]
  },
  {
   "cell_type": "code",
   "execution_count": null,
   "metadata": {},
   "outputs": [],
   "source": []
  }
 ],
 "metadata": {
  "kernelspec": {
   "display_name": "Python 3",
   "language": "python",
   "name": "python3"
  },
  "language_info": {
   "codemirror_mode": {
    "name": "ipython",
    "version": 3
   },
   "file_extension": ".py",
   "mimetype": "text/x-python",
   "name": "python",
   "nbconvert_exporter": "python",
   "pygments_lexer": "ipython3",
   "version": "3.7.1"
  }
 },
 "nbformat": 4,
 "nbformat_minor": 2
}
